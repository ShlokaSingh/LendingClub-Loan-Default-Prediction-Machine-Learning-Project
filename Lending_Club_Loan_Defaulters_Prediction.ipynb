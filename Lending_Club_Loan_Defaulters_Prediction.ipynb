{
  "metadata": {
    "kernelspec": {
      "language": "python",
      "display_name": "Python 3",
      "name": "python3"
    },
    "language_info": {
      "pygments_lexer": "ipython3",
      "nbconvert_exporter": "python",
      "version": "3.6.4",
      "file_extension": ".py",
      "codemirror_mode": {
        "name": "ipython",
        "version": 3
      },
      "name": "python",
      "mimetype": "text/x-python"
    },
    "colab": {
      "provenance": []
    }
  },
  "nbformat_minor": 0,
  "nbformat": 4,
  "cells": [
    {
      "source": [
        "import kagglehub\n",
        "husainsb_lendingclub_issued_loans_path = kagglehub.dataset_download('husainsb/lendingclub-issued-loans')\n",
        "wordsforthewise_lending_club_path = kagglehub.dataset_download('wordsforthewise/lending-club')\n",
        "janiobachmann_lending_club_first_dataset_path = kagglehub.dataset_download('janiobachmann/lending-club-first-dataset')\n",
        "jeandedieunyandwi_lending_club_dataset_path = kagglehub.dataset_download('jeandedieunyandwi/lending-club-dataset')\n",
        "ethon0426_lending_club_20072020q1_path = kagglehub.dataset_download('ethon0426/lending-club-20072020q1')\n",
        "adarshsng_lending_club_loan_data_csv_path = kagglehub.dataset_download('adarshsng/lending-club-loan-data-csv')\n",
        "\n",
        "print('Data source import complete.')\n"
      ],
      "metadata": {
        "id": "rIaHHRpSAoVx"
      },
      "cell_type": "code",
      "outputs": [],
      "execution_count": null
    },
    {
      "cell_type": "markdown",
      "source": [
        "# Loan Analysis Problem Statement\n",
        "\n",
        "# Introduction\n",
        "\n",
        "> `LendingClub` is a US peer-to-peer lending company, headquartered in San Francisco, California. It was the first peer-to-peer lender to register its offerings as securities with the Securities and Exchange Commission (SEC), and to offer loan trading on a secondary market. `LendingClub` is the world's largest peer-to-peer lending platform.\n",
        "\n",
        "> Solving this case study will give us an idea about how real business problems are solved using EDA and Machine Learning. In this case study, we will also develop a basic understanding of risk analytics in banking and financial services and understand how data is used to minimise the risk of losing money while lending to customers.\n",
        "\n",
        "# Business Understanding\n",
        "\n",
        "> You work for the `LendingClub` company which specialises in lending various types of loans to urban customers. When the company receives a loan application, the company has to make a decision for loan approval based on the applicant’s profile. Two types of risks are associated with the bank’s decision:\n",
        "\n",
        "> - If the applicant is likely to repay the loan, then not approving the loan results in a loss of business to the company\n",
        "> - If the applicant is not likely to repay the loan, i.e. he/she is likely to default, then approving the loan may lead to a financial loss for the company\n",
        "\n",
        "> The data given contains the information about past loan applicants and whether they ‘defaulted’ or not. The aim is to identify patterns which indicate if a person is likely to default, which may be used for takin actions such as denying the loan, reducing the amount of loan, lending (to risky applicants) at a higher interest rate, etc.\n",
        "\n",
        "> When a person applies for a loan, there are two types of decisions that could be taken by the company:\n",
        "> 1. `Loan accepted`: If the company approves the loan, there are 3 possible scenarios described below:\n",
        "    - `Fully paid`: Applicant has fully paid the loan (the principal and the interest rate)\n",
        "    - `Current`: Applicant is in the process of paying the instalments, i.e. the tenure of the loan is not yet completed. These candidates are not labelled as 'defaulted'.\n",
        "    - `Charged-off`: Applicant has not paid the instalments in due time for a long period of time, i.e. he/she has defaulted on the loan\n",
        "> 2. `Loan rejected`: The company had rejected the loan (because the candidate does not meet their requirements etc.). Since the loan was rejected, there is no transactional history of those applicants with the company and so this data is not available with the company (and thus in this dataset)\n",
        "\n",
        "# Business Objectives\n",
        "> - `LendingClub` is the largest online loan marketplace, facilitating personal loans, business loans, and financing of medical procedures. Borrowers can easily access lower interest rate loans through a fast online interface.\n",
        "> - Like most other lending companies, lending loans to ‘`risky`’ applicants is the largest source of financial loss (called `credit loss`). The credit loss is the amount of money lost by the lender when the borrower refuses to pay or runs away with the money owed. In other words, borrowers who defaultcause the largest amount of loss to the lenders. In this case, the customers labelled as '`charged-off`' are the '`defaulters`'.\n",
        "> - If one is able to identify these risky loan applicants, then such loans can be reduced thereby cutting down the amount of credit loss. Identification of such applicants using EDA and machine learning is the aim of this case study.\n",
        "> - In other words, the company wants to understand the driving factors (or driver variables) behind loan default, i.e. the variables which are strong indicators of default. The company can utilise this knowledge for its portfolio and risk assessment.\n",
        "> - To develop your understanding of the domain, you are advised to independently research a little about risk analytics (understanding the types of variables and their significance should be enough).\n",
        "\n",
        "# Data Description\n",
        "\n",
        "----\n",
        "-----\n",
        "Here is the information on this particular data set:\n",
        "\n",
        "<table border=\"1\" class=\"dataframe\">\n",
        "  <thead>\n",
        "    <tr style=\"text-align: right;\">\n",
        "      <th></th>\n",
        "      <th>LoanStatNew</th>\n",
        "      <th>Description</th>\n",
        "    </tr>\n",
        "  </thead>\n",
        "  <tbody>\n",
        "    <tr>\n",
        "      <th>0</th>\n",
        "      <td>loan_amnt</td>\n",
        "      <td>The listed amount of the loan applied for by the borrower. If at some point in time, the credit department reduces the loan amount, then it will be reflected in this value.</td>\n",
        "    </tr>\n",
        "    <tr>\n",
        "      <th>1</th>\n",
        "      <td>term</td>\n",
        "      <td>The number of payments on the loan. Values are in months and can be either 36 or 60.</td>\n",
        "    </tr>\n",
        "    <tr>\n",
        "      <th>2</th>\n",
        "      <td>int_rate</td>\n",
        "      <td>Interest Rate on the loan</td>\n",
        "    </tr>\n",
        "    <tr>\n",
        "      <th>3</th>\n",
        "      <td>installment</td>\n",
        "      <td>The monthly payment owed by the borrower if the loan originates.</td>\n",
        "    </tr>\n",
        "    <tr>\n",
        "      <th>4</th>\n",
        "      <td>grade</td>\n",
        "      <td>LC assigned loan grade</td>\n",
        "    </tr>\n",
        "    <tr>\n",
        "      <th>5</th>\n",
        "      <td>sub_grade</td>\n",
        "      <td>LC assigned loan subgrade</td>\n",
        "    </tr>\n",
        "    <tr>\n",
        "      <th>6</th>\n",
        "      <td>emp_title</td>\n",
        "      <td>The job title supplied by the Borrower when applying for the loan.*</td>\n",
        "    </tr>\n",
        "    <tr>\n",
        "      <th>7</th>\n",
        "      <td>emp_length</td>\n",
        "      <td>Employment length in years. Possible values are between 0 and 10 where 0 means less than one year and 10 means ten or more years.</td>\n",
        "    </tr>\n",
        "    <tr>\n",
        "      <th>8</th>\n",
        "      <td>home_ownership</td>\n",
        "      <td>The home ownership status provided by the borrower during registration or obtained from the credit report. Our values are: RENT, OWN, MORTGAGE, OTHER</td>\n",
        "    </tr>\n",
        "    <tr>\n",
        "      <th>9</th>\n",
        "      <td>annual_inc</td>\n",
        "      <td>The self-reported annual income provided by the borrower during registration.</td>\n",
        "    </tr>\n",
        "    <tr>\n",
        "      <th>10</th>\n",
        "      <td>verification_status</td>\n",
        "      <td>Indicates if income was verified by LC, not verified, or if the income source was verified</td>\n",
        "    </tr>\n",
        "    <tr>\n",
        "      <th>11</th>\n",
        "      <td>issue_d</td>\n",
        "      <td>The month which the loan was funded</td>\n",
        "    </tr>\n",
        "    <tr>\n",
        "      <th>12</th>\n",
        "      <td>loan_status</td>\n",
        "      <td>Current status of the loan</td>\n",
        "    </tr>\n",
        "    <tr>\n",
        "      <th>13</th>\n",
        "      <td>purpose</td>\n",
        "      <td>A category provided by the borrower for the loan request.</td>\n",
        "    </tr>\n",
        "    <tr>\n",
        "      <th>14</th>\n",
        "      <td>title</td>\n",
        "      <td>The loan title provided by the borrower</td>\n",
        "    </tr>\n",
        "    <tr>\n",
        "      <th>15</th>\n",
        "      <td>zip_code</td>\n",
        "      <td>The first 3 numbers of the zip code provided by the borrower in the loan application.</td>\n",
        "    </tr>\n",
        "    <tr>\n",
        "      <th>16</th>\n",
        "      <td>addr_state</td>\n",
        "      <td>The state provided by the borrower in the loan application</td>\n",
        "    </tr>\n",
        "    <tr>\n",
        "      <th>17</th>\n",
        "      <td>dti</td>\n",
        "      <td>A ratio calculated using the borrower’s total monthly debt payments on the total debt obligations, excluding mortgage and the requested LC loan, divided by the borrower’s self-reported monthly income.</td>\n",
        "    </tr>\n",
        "    <tr>\n",
        "      <th>18</th>\n",
        "      <td>earliest_cr_line</td>\n",
        "      <td>The month the borrower's earliest reported credit line was opened</td>\n",
        "    </tr>\n",
        "    <tr>\n",
        "      <th>19</th>\n",
        "      <td>open_acc</td>\n",
        "      <td>The number of open credit lines in the borrower's credit file.</td>\n",
        "    </tr>\n",
        "    <tr>\n",
        "      <th>20</th>\n",
        "      <td>pub_rec</td>\n",
        "      <td>Number of derogatory public records</td>\n",
        "    </tr>\n",
        "    <tr>\n",
        "      <th>21</th>\n",
        "      <td>revol_bal</td>\n",
        "      <td>Total credit revolving balance</td>\n",
        "    </tr>\n",
        "    <tr>\n",
        "      <th>22</th>\n",
        "      <td>revol_util</td>\n",
        "      <td>Revolving line utilization rate, or the amount of credit the borrower is using relative to all available revolving credit.</td>\n",
        "    </tr>\n",
        "    <tr>\n",
        "      <th>23</th>\n",
        "      <td>total_acc</td>\n",
        "      <td>The total number of credit lines currently in the borrower's credit file</td>\n",
        "    </tr>\n",
        "    <tr>\n",
        "      <th>24</th>\n",
        "      <td>initial_list_status</td>\n",
        "      <td>The initial listing status of the loan. Possible values are – W, F</td>\n",
        "    </tr>\n",
        "    <tr>\n",
        "      <th>25</th>\n",
        "      <td>application_type</td>\n",
        "      <td>Indicates whether the loan is an individual application or a joint application with two co-borrowers</td>\n",
        "    </tr>\n",
        "    <tr>\n",
        "      <th>26</th>\n",
        "      <td>mort_acc</td>\n",
        "      <td>Number of mortgage accounts.</td>\n",
        "    </tr>\n",
        "    <tr>\n",
        "      <th>27</th>\n",
        "      <td>pub_rec_bankruptcies</td>\n",
        "      <td>Number of public record bankruptcies</td>\n",
        "    </tr>\n",
        "  </tbody>\n",
        "</table>\n",
        "\n",
        "---\n",
        "----"
      ],
      "metadata": {
        "id": "2uOCen_0AoVz"
      }
    },
    {
      "cell_type": "code",
      "source": [
        "!pip install -q hvplot"
      ],
      "metadata": {
        "_kg_hide-output": true,
        "_kg_hide-input": true,
        "execution": {
          "iopub.status.busy": "2023-01-31T13:46:55.726339Z",
          "iopub.execute_input": "2023-01-31T13:46:55.727338Z",
          "iopub.status.idle": "2023-01-31T13:47:05.26138Z",
          "shell.execute_reply.started": "2023-01-31T13:46:55.727294Z",
          "shell.execute_reply": "2023-01-31T13:47:05.260185Z"
        },
        "trusted": true,
        "id": "L8uJudP9AoVz"
      },
      "execution_count": null,
      "outputs": []
    },
    {
      "cell_type": "code",
      "source": [
        "import pandas as pd\n",
        "import numpy as np\n",
        "import seaborn as sns\n",
        "from scipy import stats\n",
        "import matplotlib.pyplot as plt\n",
        "import hvplot.pandas\n",
        "\n",
        "from sklearn.model_selection import train_test_split, RandomizedSearchCV\n",
        "from sklearn.preprocessing import MinMaxScaler\n",
        "\n",
        "from sklearn.metrics import (\n",
        "    accuracy_score, confusion_matrix, classification_report,\n",
        "    roc_auc_score, roc_curve, auc,\n",
        "    plot_confusion_matrix, plot_roc_curve\n",
        ")\n",
        "from sklearn.metrics import ConfusionMatrixDisplay, RocCurveDisplay\n",
        "\n",
        "from xgboost import XGBClassifier\n",
        "from sklearn.ensemble import RandomForestClassifier\n",
        "\n",
        "import tensorflow as tf\n",
        "from tensorflow.keras.models import Sequential, Model\n",
        "from tensorflow.keras.layers import Dense, Dropout, BatchNormalization\n",
        "from tensorflow.keras.optimizers import Adam\n",
        "from tensorflow.keras.metrics import AUC\n",
        "\n",
        "pd.set_option('display.float', '{:.2f}'.format)\n",
        "pd.set_option('display.max_columns', 50)\n",
        "pd.set_option('display.max_rows', 50)"
      ],
      "metadata": {
        "_kg_hide-input": true,
        "execution": {
          "iopub.status.busy": "2023-01-31T13:47:05.264127Z",
          "iopub.execute_input": "2023-01-31T13:47:05.265263Z",
          "iopub.status.idle": "2023-01-31T13:47:05.277142Z",
          "shell.execute_reply.started": "2023-01-31T13:47:05.265228Z",
          "shell.execute_reply": "2023-01-31T13:47:05.275666Z"
        },
        "trusted": true,
        "id": "eLBeodAsAoV0"
      },
      "execution_count": null,
      "outputs": []
    },
    {
      "cell_type": "code",
      "source": [
        "data = pd.read_csv(\"/kaggle/input/lending-club-dataset/lending_club_loan_two.csv\")\n",
        "data.head()"
      ],
      "metadata": {
        "execution": {
          "iopub.status.busy": "2023-01-31T13:47:05.279182Z",
          "iopub.execute_input": "2023-01-31T13:47:05.279551Z",
          "iopub.status.idle": "2023-01-31T13:47:06.887087Z",
          "shell.execute_reply.started": "2023-01-31T13:47:05.279515Z",
          "shell.execute_reply": "2023-01-31T13:47:06.882851Z"
        },
        "trusted": true,
        "id": "QeBTugn3AoV0"
      },
      "execution_count": null,
      "outputs": []
    },
    {
      "cell_type": "code",
      "source": [
        "data.describe()"
      ],
      "metadata": {
        "execution": {
          "iopub.status.busy": "2023-01-31T13:47:06.889869Z",
          "iopub.execute_input": "2023-01-31T13:47:06.890857Z",
          "iopub.status.idle": "2023-01-31T13:47:07.094362Z",
          "shell.execute_reply.started": "2023-01-31T13:47:06.890817Z",
          "shell.execute_reply": "2023-01-31T13:47:07.093364Z"
        },
        "trusted": true,
        "id": "GJY22-8AAoV0"
      },
      "execution_count": null,
      "outputs": []
    },
    {
      "cell_type": "markdown",
      "source": [
        "#  Exploratory Data Analysis\n",
        "\n",
        "> **OVERALL GOAL:**\n",
        "> - Get an understanding for which variables are important, view summary statistics, and visualize the data"
      ],
      "metadata": {
        "id": "Rz0P63YyAoV0"
      }
    },
    {
      "cell_type": "code",
      "source": [
        "data.info()"
      ],
      "metadata": {
        "execution": {
          "iopub.status.busy": "2023-01-31T13:47:07.095998Z",
          "iopub.execute_input": "2023-01-31T13:47:07.096677Z",
          "iopub.status.idle": "2023-01-31T13:47:07.315421Z",
          "shell.execute_reply.started": "2023-01-31T13:47:07.096635Z",
          "shell.execute_reply": "2023-01-31T13:47:07.314345Z"
        },
        "trusted": true,
        "id": "N6xvYoTqAoV0"
      },
      "execution_count": null,
      "outputs": []
    },
    {
      "cell_type": "markdown",
      "source": [
        "## `loan_status`\n",
        "\n",
        "> Current status of the loan"
      ],
      "metadata": {
        "id": "aPWMLJrGAoV0"
      }
    },
    {
      "cell_type": "code",
      "source": [
        "data['loan_status'].value_counts().hvplot.bar(\n",
        "    title=\"Loan Status Counts\", xlabel='Loan Status', ylabel='Count',\n",
        "    width=500, height=350\n",
        ")"
      ],
      "metadata": {
        "_kg_hide-input": true,
        "execution": {
          "iopub.status.busy": "2023-01-31T13:47:07.316821Z",
          "iopub.execute_input": "2023-01-31T13:47:07.317802Z",
          "iopub.status.idle": "2023-01-31T13:47:07.527918Z",
          "shell.execute_reply.started": "2023-01-31T13:47:07.317761Z",
          "shell.execute_reply": "2023-01-31T13:47:07.526514Z"
        },
        "trusted": true,
        "id": "-YvsrDlIAoV0"
      },
      "execution_count": null,
      "outputs": []
    },
    {
      "cell_type": "code",
      "source": [
        "plt.figure(figsize=(12, 8))\n",
        "sns.heatmap(data.corr(), annot=True, cmap='viridis')"
      ],
      "metadata": {
        "execution": {
          "iopub.status.busy": "2023-01-31T13:47:07.529638Z",
          "iopub.execute_input": "2023-01-31T13:47:07.533122Z",
          "iopub.status.idle": "2023-01-31T13:47:09.170352Z",
          "shell.execute_reply.started": "2023-01-31T13:47:07.53308Z",
          "shell.execute_reply": "2023-01-31T13:47:09.169421Z"
        },
        "trusted": true,
        "id": "GmmAZ2ZxAoV0"
      },
      "execution_count": null,
      "outputs": []
    },
    {
      "cell_type": "markdown",
      "source": [
        "### Notice\n",
        "> We noticed almost perfect correlation between \"`loan_amnt`\" the \"`installment`\" feature. We'll explore this features further. Print out their descriptions and perform a scatterplot between them.\n",
        "\n",
        "> - Does this relationship make sense to you?\n",
        "> - Do we think there is duplicate information here?"
      ],
      "metadata": {
        "id": "NlwlcOKMAoV1"
      }
    },
    {
      "cell_type": "markdown",
      "source": [
        "\n",
        "\n",
        "```\n",
        "# This is formatted as code\n",
        "```\n",
        "\n",
        " `loan_amnt`  `installment`\n",
        "\n",
        "> - `installment`: The monthly payment owed by the borrower if the loan originates.\n",
        "> - `loan_amnt`: The listed amount of the loan applied for by the borrower. If at some point in time, the credit department reduces the loan amount, then it will be reflected in this value."
      ],
      "metadata": {
        "id": "VNWR1XZ2AoV1"
      }
    },
    {
      "cell_type": "code",
      "source": [
        "installment = data.hvplot.hist(\n",
        "    y='installment', by='loan_status', subplots=False,\n",
        "    width=350, height=400, bins=50, alpha=0.4,\n",
        "    title=\"Installment by Loan Status\",\n",
        "    xlabel='Installment', ylabel='Counts', legend='top'\n",
        ")\n",
        "\n",
        "loan_amnt = data.hvplot.hist(\n",
        "    y='loan_amnt', by='loan_status', subplots=False,\n",
        "    width=350, height=400, bins=30, alpha=0.4,\n",
        "    title=\"Loan Amount by Loan Status\",\n",
        "    xlabel='Loan Amount', ylabel='Counts', legend='top'\n",
        ")\n",
        "\n",
        "installment + loan_amnt"
      ],
      "metadata": {
        "_kg_hide-input": true,
        "execution": {
          "iopub.status.busy": "2023-01-31T13:47:09.171989Z",
          "iopub.execute_input": "2023-01-31T13:47:09.173154Z",
          "iopub.status.idle": "2023-01-31T13:47:10.123271Z",
          "shell.execute_reply.started": "2023-01-31T13:47:09.173114Z",
          "shell.execute_reply": "2023-01-31T13:47:10.12229Z"
        },
        "trusted": true,
        "id": "87APCGe-AoV1"
      },
      "execution_count": null,
      "outputs": []
    },
    {
      "cell_type": "code",
      "source": [
        "loan_amnt_box = data.hvplot.box(\n",
        "    y='loan_amnt', subplots=True, by='loan_status', width=300, height=350,\n",
        "    title=\"Loan Status by Loan Amount \", xlabel='Loan Status', ylabel='Loan Amount'\n",
        ")\n",
        "\n",
        "installment_box = data.hvplot.box(\n",
        "    y='installment', subplots=True, by='loan_status', width=300, height=350,\n",
        "    title=\"Loan Status by Installment\", xlabel='Loan Status', ylabel='Installment'\n",
        ")\n",
        "\n",
        "loan_amnt_box + installment_box"
      ],
      "metadata": {
        "_kg_hide-input": true,
        "execution": {
          "iopub.status.busy": "2023-01-31T13:47:10.125102Z",
          "iopub.execute_input": "2023-01-31T13:47:10.125978Z",
          "iopub.status.idle": "2023-01-31T13:47:13.550985Z",
          "shell.execute_reply.started": "2023-01-31T13:47:10.125939Z",
          "shell.execute_reply": "2023-01-31T13:47:13.549941Z"
        },
        "trusted": true,
        "id": "hR6jPEHXAoV1"
      },
      "execution_count": null,
      "outputs": []
    },
    {
      "cell_type": "code",
      "source": [
        "data.groupby(by='loan_status')['loan_amnt'].describe()"
      ],
      "metadata": {
        "execution": {
          "iopub.status.busy": "2023-01-31T13:47:13.555312Z",
          "iopub.execute_input": "2023-01-31T13:47:13.555971Z",
          "iopub.status.idle": "2023-01-31T13:47:13.643545Z",
          "shell.execute_reply.started": "2023-01-31T13:47:13.555926Z",
          "shell.execute_reply": "2023-01-31T13:47:13.642543Z"
        },
        "trusted": true,
        "id": "LuKwugR8AoV1"
      },
      "execution_count": null,
      "outputs": []
    },
    {
      "cell_type": "markdown",
      "source": [
        "##  `grade`  `sub_grade`\n",
        "\n",
        "> - `grade`: LC assigned loan grade\n",
        "> - `sub_grade`: LC assigned loan subgrade\n",
        "\n",
        "Let's explore the Grade and SubGrade columns that LendingClub attributes to the loans.\n",
        "\n",
        "What are the unique possible `grade` & `sub_grade`?"
      ],
      "metadata": {
        "id": "hJLv4QaYAoV1"
      }
    },
    {
      "cell_type": "code",
      "source": [
        "print(f\"GRADE unique: {data.grade.unique()}\")\n",
        "print(f\"SUB_GRADE unique: {data.sub_grade.unique()}\")"
      ],
      "metadata": {
        "execution": {
          "iopub.status.busy": "2023-01-31T13:47:13.644957Z",
          "iopub.execute_input": "2023-01-31T13:47:13.646222Z",
          "iopub.status.idle": "2023-01-31T13:47:13.702791Z",
          "shell.execute_reply.started": "2023-01-31T13:47:13.646182Z",
          "shell.execute_reply": "2023-01-31T13:47:13.70183Z"
        },
        "trusted": true,
        "id": "zQAVqeEmAoV1"
      },
      "execution_count": null,
      "outputs": []
    },
    {
      "cell_type": "code",
      "source": [
        "# fully_paid = data.loc[data['loan_status']=='Fully Paid', 'grade'].value_counts().hvplot.bar()\n",
        "# charged_off = data.loc[data['loan_status']=='Charged Off', 'grade'].value_counts().hvplot.bar()\n",
        "\n",
        "# grades = (fully_paid * charged_off).opts(\n",
        "#     title=\"Loan Status by Grade\", xlabel='Grades', ylabel='Count',\n",
        "#     width=500, height=450, legend_cols=2, legend_position='top_right'\n",
        "# )\n",
        "\n",
        "# fully_paid = data.loc[data['loan_status']=='Fully Paid', 'sub_grade'].value_counts().hvplot.bar()\n",
        "# charged_off = data.loc[data['loan_status']=='Charged Off', 'sub_grade'].value_counts().hvplot.bar()\n",
        "\n",
        "# sub_grades = (fully_paid * charged_off).opts(\n",
        "#     title=\"Loan Status by Grade\", xlabel='Grades', ylabel='Count',\n",
        "#     width=500, height=450, legend_cols=2, legend_position='top_right',\n",
        "#     shared_axes=False\n",
        "# )\n",
        "\n",
        "# grades + sub_grades"
      ],
      "metadata": {
        "_kg_hide-input": true,
        "execution": {
          "iopub.status.busy": "2023-01-31T13:47:13.704622Z",
          "iopub.execute_input": "2023-01-31T13:47:13.705449Z",
          "iopub.status.idle": "2023-01-31T13:47:13.710571Z",
          "shell.execute_reply.started": "2023-01-31T13:47:13.705411Z",
          "shell.execute_reply": "2023-01-31T13:47:13.709532Z"
        },
        "trusted": true,
        "id": "pwZY9HigAoV1"
      },
      "execution_count": null,
      "outputs": []
    },
    {
      "cell_type": "code",
      "source": [
        "fully_paid = data.loc[data['loan_status']=='Fully Paid', 'grade'].value_counts().hvplot.bar()\n",
        "charged_off = data.loc[data['loan_status']=='Charged Off', 'grade'].value_counts().hvplot.bar()\n",
        "\n",
        "(fully_paid * charged_off).opts(\n",
        "    title=\"Loan Status by Grade\", xlabel='Grades', ylabel='Count',\n",
        "    width=500, height=450, legend_cols=2, legend_position='top_right', xrotation=90\n",
        ")"
      ],
      "metadata": {
        "_kg_hide-input": true,
        "execution": {
          "iopub.status.busy": "2023-01-31T13:47:13.711893Z",
          "iopub.execute_input": "2023-01-31T13:47:13.713245Z",
          "iopub.status.idle": "2023-01-31T13:47:13.998843Z",
          "shell.execute_reply.started": "2023-01-31T13:47:13.713164Z",
          "shell.execute_reply": "2023-01-31T13:47:13.997791Z"
        },
        "trusted": true,
        "id": "SXYFVuc4AoV1"
      },
      "execution_count": null,
      "outputs": []
    },
    {
      "cell_type": "code",
      "source": [
        "fully_paid = data.loc[data['loan_status']=='Fully Paid', 'sub_grade'].value_counts().hvplot.bar()\n",
        "charged_off = data.loc[data['loan_status']=='Charged Off', 'sub_grade'].value_counts().hvplot.bar()\n",
        "\n",
        "(fully_paid * charged_off).opts(\n",
        "    title=\"Loan Status by Grade\", xlabel='Grades', ylabel='Count',\n",
        "    width=500, height=400, legend_cols=2, legend_position='top_right', xrotation=90\n",
        ")"
      ],
      "metadata": {
        "_kg_hide-input": true,
        "execution": {
          "iopub.status.busy": "2023-01-31T13:47:14.000516Z",
          "iopub.execute_input": "2023-01-31T13:47:14.000983Z",
          "iopub.status.idle": "2023-01-31T13:47:14.28752Z",
          "shell.execute_reply.started": "2023-01-31T13:47:14.000944Z",
          "shell.execute_reply": "2023-01-31T13:47:14.286463Z"
        },
        "trusted": true,
        "id": "PJH4ANrLAoV1"
      },
      "execution_count": null,
      "outputs": []
    },
    {
      "cell_type": "code",
      "source": [
        "# data.hvplot.bar()"
      ],
      "metadata": {
        "execution": {
          "iopub.status.busy": "2023-01-31T13:47:14.28922Z",
          "iopub.execute_input": "2023-01-31T13:47:14.289667Z",
          "iopub.status.idle": "2023-01-31T13:47:14.294291Z",
          "shell.execute_reply.started": "2023-01-31T13:47:14.28963Z",
          "shell.execute_reply": "2023-01-31T13:47:14.293361Z"
        },
        "trusted": true,
        "id": "euMwbkbHAoV1"
      },
      "execution_count": null,
      "outputs": []
    },
    {
      "cell_type": "code",
      "source": [
        "plt.figure(figsize=(15, 10))\n",
        "\n",
        "plt.subplot(2, 2, 1)\n",
        "grade = sorted(data.grade.unique().tolist())\n",
        "sns.countplot(x='grade', data=data, hue='loan_status', order=grade)\n",
        "\n",
        "plt.subplot(2, 2, 2)\n",
        "sub_grade = sorted(data.sub_grade.unique().tolist())\n",
        "g = sns.countplot(x='sub_grade', data=data, hue='loan_status', order=sub_grade)\n",
        "g.set_xticklabels(g.get_xticklabels(), rotation=90);"
      ],
      "metadata": {
        "execution": {
          "iopub.status.busy": "2023-01-31T13:47:14.295785Z",
          "iopub.execute_input": "2023-01-31T13:47:14.29639Z",
          "iopub.status.idle": "2023-01-31T13:47:15.548443Z",
          "shell.execute_reply.started": "2023-01-31T13:47:14.296354Z",
          "shell.execute_reply": "2023-01-31T13:47:15.54744Z"
        },
        "trusted": true,
        "id": "qSN6bg-qAoV1"
      },
      "execution_count": null,
      "outputs": []
    },
    {
      "cell_type": "markdown",
      "source": [
        "It looks like `F` and `G` subgrades don't get paid back that often. Isloate those and recreate the countplot just for those subgrades."
      ],
      "metadata": {
        "id": "c786xVn_AoV1"
      }
    },
    {
      "cell_type": "code",
      "source": [
        "df = data[(data.grade == 'F') | (data.grade == 'G')]\n",
        "\n",
        "plt.figure(figsize=(15, 10))\n",
        "\n",
        "plt.subplot(2, 2, 1)\n",
        "grade = sorted(df.grade.unique().tolist())\n",
        "sns.countplot(x='grade', data=df, hue='loan_status', order=grade)\n",
        "\n",
        "plt.subplot(2, 2, 2)\n",
        "sub_grade = sorted(df.sub_grade.unique().tolist())\n",
        "sns.countplot(x='sub_grade', data=df, hue='loan_status', order=sub_grade)"
      ],
      "metadata": {
        "execution": {
          "iopub.status.busy": "2023-01-31T13:47:15.550311Z",
          "iopub.execute_input": "2023-01-31T13:47:15.551159Z",
          "iopub.status.idle": "2023-01-31T13:47:16.014877Z",
          "shell.execute_reply.started": "2023-01-31T13:47:15.551121Z",
          "shell.execute_reply": "2023-01-31T13:47:16.013932Z"
        },
        "trusted": true,
        "id": "41uDUtrCAoV1"
      },
      "execution_count": null,
      "outputs": []
    },
    {
      "cell_type": "markdown",
      "source": [
        "##  `term`, `home_ownership`, `verification_status` , `purpose`\n",
        "\n",
        "> - `term`: The number of payments on the loan. Values are in months and can be either 36 or 60.\n",
        "> - `home_ownership`: The home ownership status provided by the borrower during registration or obtained from the credit report. Our values are: RENT, OWN, MORTGAGE, OTHER\n",
        "> - `verification_status`: Indicates if income was verified by LC, not verified, or if the income source was verified\n",
        "> - `purpose`: A category provided by the borrower for the loan request."
      ],
      "metadata": {
        "id": "Ahn6XuywAoV1"
      }
    },
    {
      "cell_type": "code",
      "source": [
        "data['home_ownership'].value_counts()"
      ],
      "metadata": {
        "execution": {
          "iopub.status.busy": "2023-01-31T13:47:16.016378Z",
          "iopub.execute_input": "2023-01-31T13:47:16.016956Z",
          "iopub.status.idle": "2023-01-31T13:47:16.059187Z",
          "shell.execute_reply.started": "2023-01-31T13:47:16.016916Z",
          "shell.execute_reply": "2023-01-31T13:47:16.05804Z"
        },
        "trusted": true,
        "id": "wI-XUioKAoV1"
      },
      "execution_count": null,
      "outputs": []
    },
    {
      "cell_type": "code",
      "source": [
        "fully_paid = data.loc[data['loan_status']=='Fully Paid', 'home_ownership'].value_counts().hvplot.bar()\n",
        "charged_off = data.loc[data['loan_status']=='Charged Off', 'home_ownership'].value_counts().hvplot.bar()\n",
        "\n",
        "home_ownership_count = (fully_paid * charged_off).opts(\n",
        "    title=\"Loan Status by Grade\", xlabel='Home Ownership', ylabel='Count',\n",
        "    width=350, height=350, legend_cols=2, legend_position='top_right'\n",
        ").opts(xrotation=90)\n",
        "\n",
        "home_ownership = data.home_ownership.value_counts().hvplot.bar(\n",
        "    title=\"Loan Status by Grade\", xlabel='Home Ownership', ylabel='Count',\n",
        "    width=350, height=350, legend='top'\n",
        ").opts(xrotation=90)\n",
        "\n",
        "(home_ownership_count + home_ownership)"
      ],
      "metadata": {
        "_kg_hide-input": true,
        "execution": {
          "iopub.status.busy": "2023-01-31T13:47:16.061374Z",
          "iopub.execute_input": "2023-01-31T13:47:16.061821Z",
          "iopub.status.idle": "2023-01-31T13:47:16.481781Z",
          "shell.execute_reply.started": "2023-01-31T13:47:16.061783Z",
          "shell.execute_reply": "2023-01-31T13:47:16.48069Z"
        },
        "trusted": true,
        "id": "CPqLRwToAoV1"
      },
      "execution_count": null,
      "outputs": []
    },
    {
      "cell_type": "code",
      "source": [
        "data.loc[(data.home_ownership == 'ANY') | (data.home_ownership == 'NONE'), 'home_ownership'] = 'OTHER'\n",
        "data.home_ownership.value_counts()"
      ],
      "metadata": {
        "execution": {
          "iopub.status.busy": "2023-01-31T13:47:16.483508Z",
          "iopub.execute_input": "2023-01-31T13:47:16.483948Z",
          "iopub.status.idle": "2023-01-31T13:47:16.575587Z",
          "shell.execute_reply.started": "2023-01-31T13:47:16.483912Z",
          "shell.execute_reply": "2023-01-31T13:47:16.574534Z"
        },
        "trusted": true,
        "id": "cOi8ZbUFAoV1"
      },
      "execution_count": null,
      "outputs": []
    },
    {
      "cell_type": "code",
      "source": [
        "plt.figure(figsize=(15, 20))\n",
        "\n",
        "plt.subplot(4, 2, 1)\n",
        "sns.countplot(x='term', data=data, hue='loan_status')\n",
        "\n",
        "plt.subplot(4, 2, 2)\n",
        "sns.countplot(x='home_ownership', data=data, hue='loan_status')\n",
        "\n",
        "plt.subplot(4, 2, 3)\n",
        "sns.countplot(x='verification_status', data=data, hue='loan_status')\n",
        "\n",
        "plt.subplot(4, 2, 4)\n",
        "g = sns.countplot(x='purpose', data=data, hue='loan_status')\n",
        "g.set_xticklabels(g.get_xticklabels(), rotation=90);"
      ],
      "metadata": {
        "execution": {
          "iopub.status.busy": "2023-01-31T13:47:16.577493Z",
          "iopub.execute_input": "2023-01-31T13:47:16.577863Z",
          "iopub.status.idle": "2023-01-31T13:47:18.72855Z",
          "shell.execute_reply.started": "2023-01-31T13:47:16.577827Z",
          "shell.execute_reply": "2023-01-31T13:47:18.726504Z"
        },
        "trusted": true,
        "id": "3EQBLMZFAoV1"
      },
      "execution_count": null,
      "outputs": []
    },
    {
      "cell_type": "code",
      "source": [
        "data.loc[data['home_ownership']=='OTHER', 'loan_status'].value_counts()"
      ],
      "metadata": {
        "execution": {
          "iopub.status.busy": "2023-01-31T13:47:18.730716Z",
          "iopub.execute_input": "2023-01-31T13:47:18.731674Z",
          "iopub.status.idle": "2023-01-31T13:47:18.799745Z",
          "shell.execute_reply.started": "2023-01-31T13:47:18.731623Z",
          "shell.execute_reply": "2023-01-31T13:47:18.798654Z"
        },
        "trusted": true,
        "id": "xscGGlJ7AoV1"
      },
      "execution_count": null,
      "outputs": []
    },
    {
      "cell_type": "markdown",
      "source": [
        "##  `int_rate` `annual_inc`\n",
        "\n",
        "> - `int_rate`: Interest Rate on the loan\n",
        "> - `annual_inc`: The self-reported annual income provided by the borrower during registration"
      ],
      "metadata": {
        "id": "o1F0n9RQAoV1"
      }
    },
    {
      "cell_type": "code",
      "source": [
        "int_rate = data.hvplot.hist(\n",
        "    y='int_rate', by='loan_status', alpha=0.3, width=350, height=400,\n",
        "    title=\"Loan Status by Interest Rate\", xlabel='Interest Rate', ylabel='Loans Counts',\n",
        "    legend='top'\n",
        ")\n",
        "\n",
        "annual_inc = data.hvplot.hist(\n",
        "    y='annual_inc', by='loan_status', bins=50, alpha=0.3, width=350, height=400,\n",
        "    title=\"Loan Status by Annual Income\", xlabel='Annual Income', ylabel='Loans Counts',\n",
        "    legend='top'\n",
        ").opts(xrotation=45)\n",
        "\n",
        "int_rate + annual_inc"
      ],
      "metadata": {
        "_kg_hide-input": true,
        "execution": {
          "iopub.status.busy": "2023-01-31T13:47:18.806209Z",
          "iopub.execute_input": "2023-01-31T13:47:18.806664Z",
          "iopub.status.idle": "2023-01-31T13:47:19.844237Z",
          "shell.execute_reply.started": "2023-01-31T13:47:18.806628Z",
          "shell.execute_reply": "2023-01-31T13:47:19.843114Z"
        },
        "trusted": true,
        "id": "mKWV3PH_AoV1"
      },
      "execution_count": null,
      "outputs": []
    },
    {
      "cell_type": "code",
      "source": [
        "data[data.annual_inc <= 250000].hvplot.hist(\n",
        "    y='annual_inc', by='loan_status', bins=50, alpha=0.3, width=500, height=400,\n",
        "    title=\"Loan Status by Annual Income (<= 250000/Year)\",\n",
        "    xlabel='Annual Income', ylabel='Loans Counts', legend='top'\n",
        ").opts(xrotation=45)"
      ],
      "metadata": {
        "_kg_hide-input": true,
        "execution": {
          "iopub.status.busy": "2023-01-31T13:47:19.846238Z",
          "iopub.execute_input": "2023-01-31T13:47:19.846627Z",
          "iopub.status.idle": "2023-01-31T13:47:20.422309Z",
          "shell.execute_reply.started": "2023-01-31T13:47:19.846589Z",
          "shell.execute_reply": "2023-01-31T13:47:20.421176Z"
        },
        "trusted": true,
        "id": "N8e9H6gUAoV2"
      },
      "execution_count": null,
      "outputs": []
    },
    {
      "cell_type": "code",
      "source": [
        "print((data[data.annual_inc >= 250000].shape[0] / data.shape[0]) * 100)\n",
        "print((data[data.annual_inc >= 1000000].shape[0] / data.shape[0]) * 100)"
      ],
      "metadata": {
        "execution": {
          "iopub.status.busy": "2023-01-31T13:47:20.42411Z",
          "iopub.execute_input": "2023-01-31T13:47:20.424568Z",
          "iopub.status.idle": "2023-01-31T13:47:20.442928Z",
          "shell.execute_reply.started": "2023-01-31T13:47:20.424532Z",
          "shell.execute_reply": "2023-01-31T13:47:20.441952Z"
        },
        "trusted": true,
        "id": "MWTnmuHPAoV2"
      },
      "execution_count": null,
      "outputs": []
    },
    {
      "cell_type": "code",
      "source": [
        "data.loc[data.annual_inc >= 1000000, 'loan_status'].value_counts()"
      ],
      "metadata": {
        "execution": {
          "iopub.status.busy": "2023-01-31T13:47:20.444353Z",
          "iopub.execute_input": "2023-01-31T13:47:20.445Z",
          "iopub.status.idle": "2023-01-31T13:47:20.455286Z",
          "shell.execute_reply.started": "2023-01-31T13:47:20.444962Z",
          "shell.execute_reply": "2023-01-31T13:47:20.454251Z"
        },
        "trusted": true,
        "id": "XuXg0SozAoV2"
      },
      "execution_count": null,
      "outputs": []
    },
    {
      "cell_type": "code",
      "source": [
        "data.loc[data.annual_inc >= 250000, 'loan_status'].value_counts()"
      ],
      "metadata": {
        "execution": {
          "iopub.status.busy": "2023-01-31T13:47:20.456977Z",
          "iopub.execute_input": "2023-01-31T13:47:20.457591Z",
          "iopub.status.idle": "2023-01-31T13:47:20.468338Z",
          "shell.execute_reply.started": "2023-01-31T13:47:20.457555Z",
          "shell.execute_reply": "2023-01-31T13:47:20.467405Z"
        },
        "trusted": true,
        "id": "CasX7ihaAoV2"
      },
      "execution_count": null,
      "outputs": []
    },
    {
      "cell_type": "markdown",
      "source": [
        "- It seems that loans with high intersest rate are more likely to be unpaid.\n",
        "- Only 75 (less then) borrowers have an annual income more than 1 million, and 4077"
      ],
      "metadata": {
        "id": "o_ryjqNTAoV2"
      }
    },
    {
      "cell_type": "markdown",
      "source": [
        "## `emp_title` `emp_length`\n",
        "\n",
        "> - `emp_title`: The job title supplied by the Borrower when applying for the loan.\n",
        "> - `emp_length`: Employment length in years. Possible values are between 0 and 10 where 0 means less than one year and 10 means ten or more years."
      ],
      "metadata": {
        "id": "wIendZjHAoV2"
      }
    },
    {
      "cell_type": "code",
      "source": [
        "print(data.emp_title.isna().sum())\n",
        "print(data.emp_title.nunique())"
      ],
      "metadata": {
        "execution": {
          "iopub.status.busy": "2023-01-31T13:47:20.478892Z",
          "iopub.execute_input": "2023-01-31T13:47:20.479526Z",
          "iopub.status.idle": "2023-01-31T13:47:20.598556Z",
          "shell.execute_reply.started": "2023-01-31T13:47:20.479489Z",
          "shell.execute_reply": "2023-01-31T13:47:20.597547Z"
        },
        "trusted": true,
        "id": "GfmlwagbAoV4"
      },
      "execution_count": null,
      "outputs": []
    },
    {
      "cell_type": "code",
      "source": [
        "data['emp_title'].value_counts()[:20]"
      ],
      "metadata": {
        "execution": {
          "iopub.status.busy": "2023-01-31T13:47:20.600114Z",
          "iopub.execute_input": "2023-01-31T13:47:20.600771Z",
          "iopub.status.idle": "2023-01-31T13:47:20.709564Z",
          "shell.execute_reply.started": "2023-01-31T13:47:20.600721Z",
          "shell.execute_reply": "2023-01-31T13:47:20.708547Z"
        },
        "trusted": true,
        "id": "0M19HA27AoV4"
      },
      "execution_count": null,
      "outputs": []
    },
    {
      "cell_type": "code",
      "source": [
        "plt.figure(figsize=(15, 12))\n",
        "\n",
        "plt.subplot(2, 2, 1)\n",
        "order = ['< 1 year', '1 year', '2 years', '3 years', '4 years', '5 years',\n",
        "          '6 years', '7 years', '8 years', '9 years', '10+ years',]\n",
        "g = sns.countplot(x='emp_length', data=data, hue='loan_status', order=order)\n",
        "g.set_xticklabels(g.get_xticklabels(), rotation=90);\n",
        "\n",
        "plt.subplot(2, 2, 2)\n",
        "plt.barh(data.emp_title.value_counts()[:30].index, data.emp_title.value_counts()[:30])\n",
        "plt.title(\"The most 30 jobs title afforded a loan\")\n",
        "plt.tight_layout()"
      ],
      "metadata": {
        "execution": {
          "iopub.status.busy": "2023-01-31T13:47:20.711064Z",
          "iopub.execute_input": "2023-01-31T13:47:20.711667Z",
          "iopub.status.idle": "2023-01-31T13:47:21.821948Z",
          "shell.execute_reply.started": "2023-01-31T13:47:20.71163Z",
          "shell.execute_reply": "2023-01-31T13:47:21.820984Z"
        },
        "trusted": true,
        "id": "0m14K9y8AoV4"
      },
      "execution_count": null,
      "outputs": []
    },
    {
      "cell_type": "markdown",
      "source": [
        "## `issue_d`, `earliest_cr_line`\n",
        "\n",
        "> - `issue_d`: The month which the loan was funded\n",
        "> - `earliest_cr_line`: The month the borrower's earliest reported credit line was opened"
      ],
      "metadata": {
        "id": "66kCv1FiAoV4"
      }
    },
    {
      "cell_type": "code",
      "source": [
        "# data.hvplot.line(x='issue_d', y='loan_status')"
      ],
      "metadata": {
        "execution": {
          "iopub.status.busy": "2023-01-31T13:47:21.823401Z",
          "iopub.execute_input": "2023-01-31T13:47:21.823983Z",
          "iopub.status.idle": "2023-01-31T13:47:21.828621Z",
          "shell.execute_reply.started": "2023-01-31T13:47:21.823944Z",
          "shell.execute_reply": "2023-01-31T13:47:21.827515Z"
        },
        "trusted": true,
        "id": "peSSIy_aAoV4"
      },
      "execution_count": null,
      "outputs": []
    },
    {
      "cell_type": "code",
      "source": [
        "data['earliest_cr_line'].value_counts()"
      ],
      "metadata": {
        "execution": {
          "iopub.status.busy": "2023-01-31T13:47:21.83028Z",
          "iopub.execute_input": "2023-01-31T13:47:21.83097Z",
          "iopub.status.idle": "2023-01-31T13:47:21.885803Z",
          "shell.execute_reply.started": "2023-01-31T13:47:21.830932Z",
          "shell.execute_reply": "2023-01-31T13:47:21.884884Z"
        },
        "trusted": true,
        "id": "aKbLs2elAoV4"
      },
      "execution_count": null,
      "outputs": []
    },
    {
      "cell_type": "code",
      "source": [
        "data['issue_d'] = pd.to_datetime(data['issue_d'])\n",
        "data['earliest_cr_line'] = pd.to_datetime(data['earliest_cr_line'])"
      ],
      "metadata": {
        "execution": {
          "iopub.status.busy": "2023-01-31T13:47:21.887184Z",
          "iopub.execute_input": "2023-01-31T13:47:21.887807Z",
          "iopub.status.idle": "2023-01-31T13:47:22.162799Z",
          "shell.execute_reply.started": "2023-01-31T13:47:21.887771Z",
          "shell.execute_reply": "2023-01-31T13:47:22.161862Z"
        },
        "trusted": true,
        "id": "tIzAc7RaAoV4"
      },
      "execution_count": null,
      "outputs": []
    },
    {
      "cell_type": "code",
      "source": [
        "fully_paid = data.loc[data['loan_status']=='Fully Paid', 'issue_d'].hvplot.hist(bins=35)\n",
        "charged_off = data.loc[data['loan_status']=='Charged Off', 'issue_d'].hvplot.hist(bins=35)\n",
        "\n",
        "# fully_paid * charged_off\n",
        "loan_issue_date = (fully_paid * charged_off).opts(\n",
        "    title=\"Loan Status by Loan Issue Date\", xlabel='Loan Issue Date', ylabel='Count',\n",
        "    width=350, height=350, legend_cols=2, legend_position='top_right'\n",
        ").opts(xrotation=45)\n",
        "\n",
        "fully_paid = data.loc[data['loan_status']=='Fully Paid', 'earliest_cr_line'].hvplot.hist(bins=35)\n",
        "charged_off = data.loc[data['loan_status']=='Charged Off', 'earliest_cr_line'].hvplot.hist(bins=35)\n",
        "\n",
        "earliest_cr_line = (fully_paid * charged_off).opts(\n",
        "    title=\"Loan Status by earliest_cr_line\", xlabel='earliest_cr_line', ylabel='Count',\n",
        "    width=350, height=350, legend_cols=2, legend_position='top_right'\n",
        ").opts(xrotation=45)\n",
        "\n",
        "loan_issue_date + earliest_cr_line"
      ],
      "metadata": {
        "_kg_hide-input": true,
        "execution": {
          "iopub.status.busy": "2023-01-31T13:47:22.164559Z",
          "iopub.execute_input": "2023-01-31T13:47:22.164946Z",
          "iopub.status.idle": "2023-01-31T13:47:22.698097Z",
          "shell.execute_reply.started": "2023-01-31T13:47:22.164909Z",
          "shell.execute_reply": "2023-01-31T13:47:22.697032Z"
        },
        "trusted": true,
        "id": "yRbfMM93AoV5"
      },
      "execution_count": null,
      "outputs": []
    },
    {
      "cell_type": "markdown",
      "source": [
        "## `title`\n",
        "\n",
        "> - `title`: The loan title provided by the borrower"
      ],
      "metadata": {
        "id": "DRvAMllVAoV5"
      }
    },
    {
      "cell_type": "code",
      "source": [
        "data.title.isna().sum()"
      ],
      "metadata": {
        "execution": {
          "iopub.status.busy": "2023-01-31T13:47:22.700104Z",
          "iopub.execute_input": "2023-01-31T13:47:22.700525Z",
          "iopub.status.idle": "2023-01-31T13:47:22.732565Z",
          "shell.execute_reply.started": "2023-01-31T13:47:22.700466Z",
          "shell.execute_reply": "2023-01-31T13:47:22.730932Z"
        },
        "trusted": true,
        "id": "O75PvPd4AoV5"
      },
      "execution_count": null,
      "outputs": []
    },
    {
      "cell_type": "code",
      "source": [],
      "metadata": {
        "id": "dajH1cgiFKMb"
      },
      "execution_count": null,
      "outputs": []
    },
    {
      "cell_type": "code",
      "source": [
        "data['title'] = data.title.str.lower()"
      ],
      "metadata": {
        "execution": {
          "iopub.status.busy": "2023-01-31T13:47:22.734546Z",
          "iopub.execute_input": "2023-01-31T13:47:22.735565Z",
          "iopub.status.idle": "2023-01-31T13:47:22.858342Z",
          "shell.execute_reply.started": "2023-01-31T13:47:22.735527Z",
          "shell.execute_reply": "2023-01-31T13:47:22.857335Z"
        },
        "trusted": true,
        "id": "HUoWddP3AoV5"
      },
      "execution_count": null,
      "outputs": []
    },
    {
      "cell_type": "code",
      "source": [
        "data.title.value_counts()[:10]"
      ],
      "metadata": {
        "execution": {
          "iopub.status.busy": "2023-01-31T13:47:22.860218Z",
          "iopub.execute_input": "2023-01-31T13:47:22.860622Z",
          "iopub.status.idle": "2023-01-31T13:47:22.925806Z",
          "shell.execute_reply.started": "2023-01-31T13:47:22.860584Z",
          "shell.execute_reply": "2023-01-31T13:47:22.924721Z"
        },
        "trusted": true,
        "id": "e-b5UPW7AoV5"
      },
      "execution_count": null,
      "outputs": []
    },
    {
      "cell_type": "markdown",
      "source": [
        "`title` will be removed because we have the `purpose` column with is generated from it."
      ],
      "metadata": {
        "id": "vsCWVsqUAoV5"
      }
    },
    {
      "cell_type": "markdown",
      "source": [
        "## `dti`, `open_acc`, `revol_bal`, `revol_util`, `total_acc`\n",
        "\n",
        "> - `dti`: A ratio calculated using the borrower’s total monthly debt payments on the total debt obligations, excluding mortgage and the requested LC loan, divided by the borrower’s self-reported monthly income.\n",
        "> - `open_acc`: The number of open credit lines in the borrower's credit file.\n",
        "> - `revol_bal`: Total credit revolving balance\n",
        "> - `revol_util`: Revolving line utilization rate, or the amount of credit the borrower is using relative to all available revolving credit.\n",
        "> - `total_acc`: The total number of credit lines currently in the borrower's credit file"
      ],
      "metadata": {
        "id": "FYNhT9GSAoV5"
      }
    },
    {
      "cell_type": "code",
      "source": [
        "data.dti.value_counts()"
      ],
      "metadata": {
        "execution": {
          "iopub.status.busy": "2023-01-31T13:47:22.927819Z",
          "iopub.execute_input": "2023-01-31T13:47:22.928217Z",
          "iopub.status.idle": "2023-01-31T13:47:22.950056Z",
          "shell.execute_reply.started": "2023-01-31T13:47:22.92817Z",
          "shell.execute_reply": "2023-01-31T13:47:22.94878Z"
        },
        "trusted": true,
        "id": "LjmrdVyZAoV5"
      },
      "execution_count": null,
      "outputs": []
    },
    {
      "cell_type": "code",
      "source": [
        "dti = data.hvplot.hist(\n",
        "    y='dti', bins=50, width=350, height=350,\n",
        "    title=\"dti Distribution\", xlabel='dti', ylabel='Count'\n",
        ")\n",
        "\n",
        "sub_dti = data[data['dti']<=50].hvplot.hist(\n",
        "    y='dti', bins=50, width=350, height=350,\n",
        "    title=\"dti (<=30) Distribution\", xlabel='dti', ylabel='Count', shared_axes=False\n",
        ")\n",
        "\n",
        "dti + sub_dti"
      ],
      "metadata": {
        "_kg_hide-input": true,
        "execution": {
          "iopub.status.busy": "2023-01-31T13:47:22.951936Z",
          "iopub.execute_input": "2023-01-31T13:47:22.95232Z",
          "iopub.status.idle": "2023-01-31T13:47:23.517689Z",
          "shell.execute_reply.started": "2023-01-31T13:47:22.952282Z",
          "shell.execute_reply": "2023-01-31T13:47:23.516521Z"
        },
        "trusted": true,
        "id": "dpRqu3d_AoV5"
      },
      "execution_count": null,
      "outputs": []
    },
    {
      "cell_type": "code",
      "source": [
        "print(data[data['dti']>=40].shape)"
      ],
      "metadata": {
        "execution": {
          "iopub.status.busy": "2023-01-31T13:47:23.519584Z",
          "iopub.execute_input": "2023-01-31T13:47:23.520204Z",
          "iopub.status.idle": "2023-01-31T13:47:23.528389Z",
          "shell.execute_reply.started": "2023-01-31T13:47:23.520168Z",
          "shell.execute_reply": "2023-01-31T13:47:23.527185Z"
        },
        "trusted": true,
        "id": "TFvwtm3NAoV5"
      },
      "execution_count": null,
      "outputs": []
    },
    {
      "cell_type": "code",
      "source": [
        "data.loc[data['dti']>=50, 'loan_status'].value_counts()"
      ],
      "metadata": {
        "execution": {
          "iopub.status.busy": "2023-01-31T13:47:23.530404Z",
          "iopub.execute_input": "2023-01-31T13:47:23.531358Z",
          "iopub.status.idle": "2023-01-31T13:47:23.542602Z",
          "shell.execute_reply.started": "2023-01-31T13:47:23.531321Z",
          "shell.execute_reply": "2023-01-31T13:47:23.541642Z"
        },
        "trusted": true,
        "id": "PVd3jOLXAoV5"
      },
      "execution_count": null,
      "outputs": []
    },
    {
      "cell_type": "code",
      "source": [
        "dti = data[data['dti']<=50].hvplot.hist(\n",
        "    y='dti', by='loan_status', bins=50, width=300, height=350,\n",
        "    title=\"dti (<=30) Distribution\", xlabel='dti', ylabel='Count',\n",
        "    alpha=0.3, legend='top'\n",
        ")\n",
        "\n",
        "title=\"Loan Status by The number of open credit lines\"\n",
        "\n",
        "open_acc = data.hvplot.hist(\n",
        "    y='open_acc', by='loan_status', bins=50, width=300, height=350,\n",
        "    title=title, xlabel='The number of open credit lines', ylabel='Count',\n",
        "    alpha=0.4, legend='top'\n",
        ")\n",
        "\n",
        "title=\"Loan Status by The total number of credit lines\"\n",
        "\n",
        "total_acc = data.hvplot.hist(\n",
        "    y='total_acc', by='loan_status', bins=50, width=300, height=350,\n",
        "    title=title, xlabel='The total number of credit lines', ylabel='Count',\n",
        "    alpha=0.4, legend='top'\n",
        ")\n",
        "\n",
        "dti + open_acc + total_acc"
      ],
      "metadata": {
        "_kg_hide-input": true,
        "execution": {
          "iopub.status.busy": "2023-01-31T13:47:23.544006Z",
          "iopub.execute_input": "2023-01-31T13:47:23.544639Z",
          "iopub.status.idle": "2023-01-31T13:47:24.99199Z",
          "shell.execute_reply.started": "2023-01-31T13:47:23.544602Z",
          "shell.execute_reply": "2023-01-31T13:47:24.990879Z"
        },
        "trusted": true,
        "id": "MlrcLQ4oAoV5"
      },
      "execution_count": null,
      "outputs": []
    },
    {
      "cell_type": "code",
      "source": [
        "print(data.shape)\n",
        "print(data[data.open_acc > 40].shape)"
      ],
      "metadata": {
        "execution": {
          "iopub.status.busy": "2023-01-31T13:47:24.993583Z",
          "iopub.execute_input": "2023-01-31T13:47:24.994778Z",
          "iopub.status.idle": "2023-01-31T13:47:25.003742Z",
          "shell.execute_reply.started": "2023-01-31T13:47:24.994731Z",
          "shell.execute_reply": "2023-01-31T13:47:25.002387Z"
        },
        "trusted": true,
        "id": "Pq1QbOMzAoV5"
      },
      "execution_count": null,
      "outputs": []
    },
    {
      "cell_type": "code",
      "source": [
        "print(data.shape)\n",
        "print(data[data.total_acc > 80].shape)"
      ],
      "metadata": {
        "execution": {
          "iopub.status.busy": "2023-01-31T13:47:25.005039Z",
          "iopub.execute_input": "2023-01-31T13:47:25.005717Z",
          "iopub.status.idle": "2023-01-31T13:47:25.015128Z",
          "shell.execute_reply.started": "2023-01-31T13:47:25.00567Z",
          "shell.execute_reply": "2023-01-31T13:47:25.013963Z"
        },
        "trusted": true,
        "id": "K7Oc4XbkAoV5"
      },
      "execution_count": null,
      "outputs": []
    },
    {
      "cell_type": "code",
      "source": [
        "print(data.shape)\n",
        "print(data[data.revol_util > 120].shape)"
      ],
      "metadata": {
        "execution": {
          "iopub.status.busy": "2023-01-31T13:47:25.01728Z",
          "iopub.execute_input": "2023-01-31T13:47:25.017741Z",
          "iopub.status.idle": "2023-01-31T13:47:25.028044Z",
          "shell.execute_reply.started": "2023-01-31T13:47:25.017632Z",
          "shell.execute_reply": "2023-01-31T13:47:25.02694Z"
        },
        "trusted": true,
        "id": "U1S0NlK1AoV5"
      },
      "execution_count": null,
      "outputs": []
    },
    {
      "cell_type": "code",
      "source": [
        "title=\"Loan Status by Revolving line utilization rate\"\n",
        "\n",
        "revol_util = data.hvplot.hist(\n",
        "    y='revol_util', by='loan_status', bins=50, width=350, height=400,\n",
        "    title=title, xlabel='Revolving line utilization rate', ylabel='Count',\n",
        "    alpha=0.4, legend='top'\n",
        ")\n",
        "\n",
        "title=\"Loan Status by Revolving line utilization rate (<120)\"\n",
        "\n",
        "sub_revol_util = data[data.revol_util < 120].hvplot.hist(\n",
        "    y='revol_util', by='loan_status', bins=50, width=350, height=400,\n",
        "    title=title, xlabel='Revolving line utilization rate', ylabel='Count',\n",
        "    shared_axes=False, alpha=0.4, legend='top'\n",
        ")\n",
        "\n",
        "revol_util + sub_revol_util"
      ],
      "metadata": {
        "_kg_hide-input": true,
        "execution": {
          "iopub.status.busy": "2023-01-31T13:47:25.029361Z",
          "iopub.execute_input": "2023-01-31T13:47:25.030554Z",
          "iopub.status.idle": "2023-01-31T13:47:26.057192Z",
          "shell.execute_reply.started": "2023-01-31T13:47:25.030517Z",
          "shell.execute_reply": "2023-01-31T13:47:26.056199Z"
        },
        "trusted": true,
        "id": "3KrdJO7VAoV5"
      },
      "execution_count": null,
      "outputs": []
    },
    {
      "cell_type": "code",
      "source": [
        "data[data.revol_util > 200]"
      ],
      "metadata": {
        "execution": {
          "iopub.status.busy": "2023-01-31T13:47:26.058757Z",
          "iopub.execute_input": "2023-01-31T13:47:26.059402Z",
          "iopub.status.idle": "2023-01-31T13:47:26.09015Z",
          "shell.execute_reply.started": "2023-01-31T13:47:26.05936Z",
          "shell.execute_reply": "2023-01-31T13:47:26.089216Z"
        },
        "trusted": true,
        "id": "eSrxntYzAoV5"
      },
      "execution_count": null,
      "outputs": []
    },
    {
      "cell_type": "code",
      "source": [
        "print(data.shape)\n",
        "print(data[data.revol_bal > 250000].shape)"
      ],
      "metadata": {
        "execution": {
          "iopub.status.busy": "2023-01-31T13:47:26.091669Z",
          "iopub.execute_input": "2023-01-31T13:47:26.092302Z",
          "iopub.status.idle": "2023-01-31T13:47:26.101447Z",
          "shell.execute_reply.started": "2023-01-31T13:47:26.092263Z",
          "shell.execute_reply": "2023-01-31T13:47:26.100191Z"
        },
        "trusted": true,
        "id": "Wkm0sTp2AoV5"
      },
      "execution_count": null,
      "outputs": []
    },
    {
      "cell_type": "code",
      "source": [
        "title = \"Loan Status by Total credit revolving balance\"\n",
        "\n",
        "revol_bal = data.hvplot.hist(\n",
        "    y='revol_bal', by='loan_status', bins=50, width=350, height=400,\n",
        "    title=title, xlabel='Total credit revolving balance', ylabel='Count',\n",
        "    alpha=0.4, legend='top'\n",
        ")\n",
        "\n",
        "title = \"Loan Status by Total credit revolving balance (<250000)\"\n",
        "\n",
        "sub_revol_bal = data[data['revol_bal']<=250000].hvplot.hist(\n",
        "    y='revol_bal', by='loan_status', bins=50, width=350, height=400,\n",
        "    title=title, xlabel='Total credit revolving balance', ylabel='Count',\n",
        "    alpha=0.4, legend='top', shared_axes=False\n",
        ").opts(xrotation=45)\n",
        "\n",
        "revol_bal + sub_revol_bal"
      ],
      "metadata": {
        "_kg_hide-input": true,
        "execution": {
          "iopub.status.busy": "2023-01-31T13:47:26.103128Z",
          "iopub.execute_input": "2023-01-31T13:47:26.103917Z",
          "iopub.status.idle": "2023-01-31T13:47:27.167581Z",
          "shell.execute_reply.started": "2023-01-31T13:47:26.103868Z",
          "shell.execute_reply": "2023-01-31T13:47:27.166437Z"
        },
        "trusted": true,
        "id": "zsCv8NQgAoV5"
      },
      "execution_count": null,
      "outputs": []
    },
    {
      "cell_type": "code",
      "source": [
        "data.loc[data.revol_bal > 250000, 'loan_status'].value_counts()"
      ],
      "metadata": {
        "execution": {
          "iopub.status.busy": "2023-01-31T13:47:27.169139Z",
          "iopub.execute_input": "2023-01-31T13:47:27.170091Z",
          "iopub.status.idle": "2023-01-31T13:47:27.180821Z",
          "shell.execute_reply.started": "2023-01-31T13:47:27.170034Z",
          "shell.execute_reply": "2023-01-31T13:47:27.179506Z"
        },
        "trusted": true,
        "id": "gNhRNXZWAoV5"
      },
      "execution_count": null,
      "outputs": []
    },
    {
      "cell_type": "markdown",
      "source": [],
      "metadata": {
        "id": "5aTyM2U1FHfT"
      }
    },
    {
      "cell_type": "markdown",
      "source": [
        "- It seems that the smaller the `dti` the more likely that the loan will not be paid.\n",
        "- Only `217` borrower have more than `40` open credit lines.\n",
        "- Only `266` borrower have more than `80` credit line in the borrower credit file."
      ],
      "metadata": {
        "id": "gpNhhjVtAoV5"
      }
    },
    {
      "cell_type": "markdown",
      "source": [
        "## `pub_rec`, `initial_list_status`, `application_type`, `mort_acc`, `pub_rec_bankruptcies`\n",
        "\n",
        "> - `pub_rec`: Number of derogatory public records\n",
        "> - `initial_list_status`: The initial listing status of the loan. Possible values are – W, F\n",
        "> - `application_type`: Indicates whether the loan is an individual application or a joint application with two co-borrowers\n",
        "> - `mort_acc`: Number of mortgage accounts\n",
        "> - `pub_rec_bankruptcies`: Number of public record bankruptcies"
      ],
      "metadata": {
        "id": "A4gapumwAoV5"
      }
    },
    {
      "cell_type": "code",
      "source": [
        "xlabel = 'Number of derogatory public records'\n",
        "title = \"Loan Status by Number of derogatory public records\"\n",
        "\n",
        "fully_paid = data.loc[data['loan_status']=='Fully Paid', 'pub_rec'].value_counts().hvplot.bar()\n",
        "charged_off = data.loc[data['loan_status']=='Charged Off', 'pub_rec'].value_counts().hvplot.bar()\n",
        "\n",
        "(fully_paid * charged_off).opts(\n",
        "    title=title, xlabel=xlabel, ylabel='Count',\n",
        "    width=400, height=400, legend_cols=2, legend_position='top_right'\n",
        ")"
      ],
      "metadata": {
        "_kg_hide-input": true,
        "execution": {
          "iopub.status.busy": "2023-01-31T13:47:27.182368Z",
          "iopub.execute_input": "2023-01-31T13:47:27.183392Z",
          "iopub.status.idle": "2023-01-31T13:47:27.94462Z",
          "shell.execute_reply.started": "2023-01-31T13:47:27.183344Z",
          "shell.execute_reply": "2023-01-31T13:47:27.943439Z"
        },
        "trusted": true,
        "id": "YgBgnRSUAoV5"
      },
      "execution_count": null,
      "outputs": []
    },
    {
      "cell_type": "code",
      "source": [
        "xlabel = \"The initial listing status of the loan\"\n",
        "title = \"Loan Status by The initial listing status of the loan\"\n",
        "\n",
        "fully_paid = data.loc[data['loan_status']=='Fully Paid', 'initial_list_status'].value_counts().hvplot.bar()\n",
        "charged_off = data.loc[data['loan_status']=='Charged Off', 'initial_list_status'].value_counts().hvplot.bar()\n",
        "\n",
        "(fully_paid * charged_off).opts(\n",
        "    title=title, xlabel=xlabel, ylabel='Count',\n",
        "    width=400, height=400, legend_cols=2, legend_position='top_right'\n",
        ")"
      ],
      "metadata": {
        "_kg_hide-input": true,
        "execution": {
          "iopub.status.busy": "2023-01-31T13:47:27.945938Z",
          "iopub.execute_input": "2023-01-31T13:47:27.946883Z",
          "iopub.status.idle": "2023-01-31T13:47:28.226575Z",
          "shell.execute_reply.started": "2023-01-31T13:47:27.94684Z",
          "shell.execute_reply": "2023-01-31T13:47:28.225529Z"
        },
        "trusted": true,
        "id": "2Y1kcmENAoV5"
      },
      "execution_count": null,
      "outputs": []
    },
    {
      "cell_type": "code",
      "source": [
        "fully_paid = data.loc[data['loan_status']=='Fully Paid', 'application_type'].value_counts().hvplot.bar()\n",
        "charged_off = data.loc[data['loan_status']=='Charged Off', 'application_type'].value_counts().hvplot.bar()\n",
        "\n",
        "(fully_paid * charged_off).opts(\n",
        "    title=\"Loan Status by Application Type\", xlabel=\"Application Type\", ylabel='Count',\n",
        "    width=400, height=400, legend_cols=2, legend_position='top_right'\n",
        ")"
      ],
      "metadata": {
        "_kg_hide-input": true,
        "execution": {
          "iopub.status.busy": "2023-01-31T13:47:28.227912Z",
          "iopub.execute_input": "2023-01-31T13:47:28.228541Z",
          "iopub.status.idle": "2023-01-31T13:47:28.514568Z",
          "shell.execute_reply.started": "2023-01-31T13:47:28.228504Z",
          "shell.execute_reply": "2023-01-31T13:47:28.513528Z"
        },
        "trusted": true,
        "id": "a63PKUQRAoV5"
      },
      "execution_count": null,
      "outputs": []
    },
    {
      "cell_type": "code",
      "source": [
        "xlabel = \"Number of public record bankruptcies\"\n",
        "title = \"Loan Status by The Number of public record bankruptcies\"\n",
        "\n",
        "fully_paid = data.loc[data['loan_status']=='Fully Paid', 'pub_rec_bankruptcies'].value_counts().hvplot.bar()\n",
        "charged_off = data.loc[data['loan_status']=='Charged Off', 'pub_rec_bankruptcies'].value_counts().hvplot.bar()\n",
        "\n",
        "(fully_paid * charged_off).opts(\n",
        "    title=title, xlabel=xlabel, ylabel='Count',\n",
        "    width=400, height=400, legend_cols=2, legend_position='top_right'\n",
        ")"
      ],
      "metadata": {
        "_kg_hide-input": true,
        "execution": {
          "iopub.status.busy": "2023-01-31T13:47:28.516251Z",
          "iopub.execute_input": "2023-01-31T13:47:28.517422Z",
          "iopub.status.idle": "2023-01-31T13:47:28.789452Z",
          "shell.execute_reply.started": "2023-01-31T13:47:28.517384Z",
          "shell.execute_reply": "2023-01-31T13:47:28.788388Z"
        },
        "trusted": true,
        "id": "fi_fNFJZAoV5"
      },
      "execution_count": null,
      "outputs": []
    },
    {
      "cell_type": "code",
      "source": [
        "def pub_rec(number):\n",
        "    if number == 0.0:\n",
        "        return 0\n",
        "    else:\n",
        "        return 1\n",
        "\n",
        "def mort_acc(number):\n",
        "    if number == 0.0:\n",
        "        return 0\n",
        "    elif number >= 1.0:\n",
        "        return 1\n",
        "    else:\n",
        "        return number\n",
        "\n",
        "def pub_rec_bankruptcies(number):\n",
        "    if number == 0.0:\n",
        "        return 0\n",
        "    elif number >= 1.0:\n",
        "        return 1\n",
        "    else:\n",
        "        return number"
      ],
      "metadata": {
        "execution": {
          "iopub.status.busy": "2023-01-31T13:47:28.791233Z",
          "iopub.execute_input": "2023-01-31T13:47:28.791696Z",
          "iopub.status.idle": "2023-01-31T13:47:28.799827Z",
          "shell.execute_reply.started": "2023-01-31T13:47:28.791658Z",
          "shell.execute_reply": "2023-01-31T13:47:28.798755Z"
        },
        "trusted": true,
        "id": "vL1Yq4_IAoV6"
      },
      "execution_count": null,
      "outputs": []
    },
    {
      "cell_type": "code",
      "source": [
        "data['pub_rec'] = data.pub_rec.apply(pub_rec)\n",
        "data['mort_acc'] = data.mort_acc.apply(mort_acc)\n",
        "data['pub_rec_bankruptcies'] = data.pub_rec_bankruptcies.apply(pub_rec_bankruptcies)"
      ],
      "metadata": {
        "execution": {
          "iopub.status.busy": "2023-01-31T13:47:28.801251Z",
          "iopub.execute_input": "2023-01-31T13:47:28.802514Z",
          "iopub.status.idle": "2023-01-31T13:47:29.22852Z",
          "shell.execute_reply.started": "2023-01-31T13:47:28.802458Z",
          "shell.execute_reply": "2023-01-31T13:47:29.227526Z"
        },
        "trusted": true,
        "id": "cvyj24xRAoV6"
      },
      "execution_count": null,
      "outputs": []
    },
    {
      "cell_type": "code",
      "source": [
        "plt.figure(figsize=(12, 30))\n",
        "\n",
        "plt.subplot(6, 2, 1)\n",
        "sns.countplot(x='pub_rec', data=data, hue='loan_status')\n",
        "\n",
        "plt.subplot(6, 2, 2)\n",
        "sns.countplot(x='initial_list_status', data=data, hue='loan_status')\n",
        "\n",
        "plt.subplot(6, 2, 3)\n",
        "sns.countplot(x='application_type', data=data, hue='loan_status')\n",
        "\n",
        "plt.subplot(6, 2, 4)\n",
        "sns.countplot(x='mort_acc', data=data, hue='loan_status')\n",
        "\n",
        "plt.subplot(6, 2, 5)\n",
        "sns.countplot(x='pub_rec_bankruptcies', data=data, hue='loan_status')"
      ],
      "metadata": {
        "execution": {
          "iopub.status.busy": "2023-01-31T13:47:29.231032Z",
          "iopub.execute_input": "2023-01-31T13:47:29.232316Z",
          "iopub.status.idle": "2023-01-31T13:47:31.201972Z",
          "shell.execute_reply.started": "2023-01-31T13:47:29.232273Z",
          "shell.execute_reply": "2023-01-31T13:47:31.201024Z"
        },
        "trusted": true,
        "id": "l-BLBHCpAoV6"
      },
      "execution_count": null,
      "outputs": []
    },
    {
      "cell_type": "markdown",
      "source": [
        "## How numeric features correlate with the target variable?"
      ],
      "metadata": {
        "id": "C9mIrPKvAoV6"
      }
    },
    {
      "cell_type": "code",
      "source": [
        "data['loan_status'] = data.loan_status.map({'Fully Paid':1, 'Charged Off':0})"
      ],
      "metadata": {
        "execution": {
          "iopub.status.busy": "2023-01-31T13:47:31.203683Z",
          "iopub.execute_input": "2023-01-31T13:47:31.204272Z",
          "iopub.status.idle": "2023-01-31T13:47:31.334081Z",
          "shell.execute_reply.started": "2023-01-31T13:47:31.204221Z",
          "shell.execute_reply": "2023-01-31T13:47:31.333149Z"
        },
        "trusted": true,
        "id": "I8LDvwNoAoV6"
      },
      "execution_count": null,
      "outputs": []
    },
    {
      "cell_type": "code",
      "source": [
        "data.corr()['loan_status'].drop('loan_status').sort_values().hvplot.barh(\n",
        "    width=600, height=400,\n",
        "    title=\"Correlation between Loan status and Numeric Features\",\n",
        "    ylabel='Correlation', xlabel='Numerical Features',\n",
        ")"
      ],
      "metadata": {
        "_kg_hide-input": true,
        "execution": {
          "iopub.status.busy": "2023-01-31T13:47:31.335834Z",
          "iopub.execute_input": "2023-01-31T13:47:31.336275Z",
          "iopub.status.idle": "2023-01-31T13:47:31.652865Z",
          "shell.execute_reply.started": "2023-01-31T13:47:31.336229Z",
          "shell.execute_reply": "2023-01-31T13:47:31.651803Z"
        },
        "trusted": true,
        "id": "MzMpd3PIAoV6"
      },
      "execution_count": null,
      "outputs": []
    },
    {
      "cell_type": "markdown",
      "source": [
        "****\n",
        "## Conclusion:\n",
        "\n",
        "We notice that, there are broadly three types of features:\n",
        "- 1. Features related to the applicant (demographic variables such as occupation, employment details etc.),\n",
        "- 2. Features related to loan characteristics (amount of loan, interest rate, purpose of loan etc.)\n",
        "****"
      ],
      "metadata": {
        "id": "y8l58QZXAoV6"
      }
    },
    {
      "cell_type": "markdown",
      "source": [
        "# Outliers Detection and Removing"
      ],
      "metadata": {
        "id": "mqNMrHjuAoV6"
      }
    },
    {
      "cell_type": "code",
      "source": [
        "## We need to remove outliers found in the analysis"
      ],
      "metadata": {
        "execution": {
          "iopub.status.busy": "2023-01-31T13:47:31.65485Z",
          "iopub.execute_input": "2023-01-31T13:47:31.655229Z",
          "iopub.status.idle": "2023-01-31T13:47:31.660518Z",
          "shell.execute_reply.started": "2023-01-31T13:47:31.65519Z",
          "shell.execute_reply": "2023-01-31T13:47:31.659274Z"
        },
        "trusted": true,
        "id": "-1rZ6BkpAoV6"
      },
      "execution_count": null,
      "outputs": []
    },
    {
      "cell_type": "markdown",
      "source": [
        "# Data PreProcessing\n",
        "\n",
        "**Section Goals:**\n",
        "> - Remove or fill any missing data.\n",
        "> - Remove unnecessary or repetitive features.\n",
        "> - Convert categorical string features to dummy variables."
      ],
      "metadata": {
        "id": "dBoTCEASAoV6"
      }
    },
    {
      "cell_type": "code",
      "source": [
        "# The length of the data\n",
        "print(f\"The Length of the data: {data.shape}\")"
      ],
      "metadata": {
        "execution": {
          "iopub.status.busy": "2023-01-31T13:47:31.662637Z",
          "iopub.execute_input": "2023-01-31T13:47:31.663093Z",
          "iopub.status.idle": "2023-01-31T13:47:31.672219Z",
          "shell.execute_reply.started": "2023-01-31T13:47:31.663059Z",
          "shell.execute_reply": "2023-01-31T13:47:31.670921Z"
        },
        "trusted": true,
        "id": "uXhM6rkmAoV6"
      },
      "execution_count": null,
      "outputs": []
    },
    {
      "cell_type": "code",
      "source": [
        "# Missing values\n",
        "for column in data.columns:\n",
        "    if data[column].isna().sum() != 0:\n",
        "        missing = data[column].isna().sum()\n",
        "        portion = (missing / data.shape[0]) * 100\n",
        "        print(f\"'{column}': number of missing values '{missing}' ==> '{portion:.3f}%'\")"
      ],
      "metadata": {
        "execution": {
          "iopub.status.busy": "2023-01-31T13:47:31.673743Z",
          "iopub.execute_input": "2023-01-31T13:47:31.674332Z",
          "iopub.status.idle": "2023-01-31T13:47:31.926054Z",
          "shell.execute_reply.started": "2023-01-31T13:47:31.674296Z",
          "shell.execute_reply": "2023-01-31T13:47:31.924949Z"
        },
        "trusted": true,
        "id": "C5BwFzTaAoV6"
      },
      "execution_count": null,
      "outputs": []
    },
    {
      "cell_type": "markdown",
      "source": [
        "### `emp_title`"
      ],
      "metadata": {
        "id": "04QgzKNyAoV6"
      }
    },
    {
      "cell_type": "code",
      "source": [
        "data.emp_title.nunique()"
      ],
      "metadata": {
        "execution": {
          "iopub.status.busy": "2023-01-31T13:47:31.927977Z",
          "iopub.execute_input": "2023-01-31T13:47:31.928832Z",
          "iopub.status.idle": "2023-01-31T13:47:32.003521Z",
          "shell.execute_reply.started": "2023-01-31T13:47:31.92879Z",
          "shell.execute_reply": "2023-01-31T13:47:32.002386Z"
        },
        "trusted": true,
        "id": "DTbFM6MDAoV6"
      },
      "execution_count": null,
      "outputs": []
    },
    {
      "cell_type": "markdown",
      "source": [
        "Realistically there are too many unique job titles to try to convert this to a dummy variable feature. Let's remove that emp_title column."
      ],
      "metadata": {
        "id": "dSln7Jr8AoV6"
      }
    },
    {
      "cell_type": "code",
      "source": [
        "data.drop('emp_title', axis=1, inplace=True)"
      ],
      "metadata": {
        "execution": {
          "iopub.status.busy": "2023-01-31T13:47:32.005551Z",
          "iopub.execute_input": "2023-01-31T13:47:32.005941Z",
          "iopub.status.idle": "2023-01-31T13:47:32.106917Z",
          "shell.execute_reply.started": "2023-01-31T13:47:32.005904Z",
          "shell.execute_reply": "2023-01-31T13:47:32.105926Z"
        },
        "trusted": true,
        "id": "z8b7QJs_AoV6"
      },
      "execution_count": null,
      "outputs": []
    },
    {
      "cell_type": "markdown",
      "source": [
        "### `emp_length`"
      ],
      "metadata": {
        "id": "8mCKB8FvAoV6"
      }
    },
    {
      "cell_type": "code",
      "source": [
        "data.emp_length.unique()"
      ],
      "metadata": {
        "execution": {
          "iopub.status.busy": "2023-01-31T13:47:32.10891Z",
          "iopub.execute_input": "2023-01-31T13:47:32.109316Z",
          "iopub.status.idle": "2023-01-31T13:47:32.139665Z",
          "shell.execute_reply.started": "2023-01-31T13:47:32.109277Z",
          "shell.execute_reply": "2023-01-31T13:47:32.138416Z"
        },
        "trusted": true,
        "id": "24gWwMN1AoV6"
      },
      "execution_count": null,
      "outputs": []
    },
    {
      "cell_type": "code",
      "source": [
        "for year in data.emp_length.unique():\n",
        "    print(f\"{year} years in this position:\")\n",
        "    print(f\"{data[data.emp_length == year].loan_status.value_counts(normalize=True)}\")\n",
        "    print('==========================================')"
      ],
      "metadata": {
        "execution": {
          "iopub.status.busy": "2023-01-31T13:47:32.14157Z",
          "iopub.execute_input": "2023-01-31T13:47:32.142222Z",
          "iopub.status.idle": "2023-01-31T13:47:32.662675Z",
          "shell.execute_reply.started": "2023-01-31T13:47:32.142119Z",
          "shell.execute_reply": "2023-01-31T13:47:32.661524Z"
        },
        "trusted": true,
        "id": "m8iV9lUyAoV6"
      },
      "execution_count": null,
      "outputs": []
    },
    {
      "cell_type": "markdown",
      "source": [
        "Charge off rates are extremely similar across all employment lengths. So we are going to drop the `emp_length` column."
      ],
      "metadata": {
        "id": "wibZI3ZKAoV6"
      }
    },
    {
      "cell_type": "code",
      "source": [
        "data.drop('emp_length', axis=1, inplace=True)"
      ],
      "metadata": {
        "execution": {
          "iopub.status.busy": "2023-01-31T13:47:32.664745Z",
          "iopub.execute_input": "2023-01-31T13:47:32.665138Z",
          "iopub.status.idle": "2023-01-31T13:47:32.741416Z",
          "shell.execute_reply.started": "2023-01-31T13:47:32.665099Z",
          "shell.execute_reply": "2023-01-31T13:47:32.740397Z"
        },
        "trusted": true,
        "id": "14_MvAopAoV6"
      },
      "execution_count": null,
      "outputs": []
    },
    {
      "cell_type": "markdown",
      "source": [
        "### `title`"
      ],
      "metadata": {
        "id": "TNpNQzL7AoV6"
      }
    },
    {
      "cell_type": "code",
      "source": [
        "data.title.value_counts().head()"
      ],
      "metadata": {
        "execution": {
          "iopub.status.busy": "2023-01-31T13:47:32.743371Z",
          "iopub.execute_input": "2023-01-31T13:47:32.743798Z",
          "iopub.status.idle": "2023-01-31T13:47:32.796702Z",
          "shell.execute_reply.started": "2023-01-31T13:47:32.743758Z",
          "shell.execute_reply": "2023-01-31T13:47:32.795215Z"
        },
        "trusted": true,
        "id": "vCRXlPqIAoV6"
      },
      "execution_count": null,
      "outputs": []
    },
    {
      "cell_type": "code",
      "source": [
        "data.purpose.value_counts().head()"
      ],
      "metadata": {
        "execution": {
          "iopub.status.busy": "2023-01-31T13:47:32.798103Z",
          "iopub.execute_input": "2023-01-31T13:47:32.800349Z",
          "iopub.status.idle": "2023-01-31T13:47:32.843221Z",
          "shell.execute_reply.started": "2023-01-31T13:47:32.80031Z",
          "shell.execute_reply": "2023-01-31T13:47:32.842044Z"
        },
        "trusted": true,
        "id": "vnmZkhJ3AoV6"
      },
      "execution_count": null,
      "outputs": []
    },
    {
      "cell_type": "markdown",
      "source": [
        "The title column is simply a string subcategory/description of the purpose column. So we are going to drop the title column."
      ],
      "metadata": {
        "id": "6Ru1tutSAoV6"
      }
    },
    {
      "cell_type": "code",
      "source": [
        "data.drop('title', axis=1, inplace=True)"
      ],
      "metadata": {
        "execution": {
          "iopub.status.busy": "2023-01-31T13:47:32.845248Z",
          "iopub.execute_input": "2023-01-31T13:47:32.846082Z",
          "iopub.status.idle": "2023-01-31T13:47:32.930145Z",
          "shell.execute_reply.started": "2023-01-31T13:47:32.846046Z",
          "shell.execute_reply": "2023-01-31T13:47:32.929066Z"
        },
        "trusted": true,
        "id": "w5LFQxv3AoV6"
      },
      "execution_count": null,
      "outputs": []
    },
    {
      "cell_type": "markdown",
      "source": [
        "### `mort_acc`\n",
        "\n",
        "There are many ways we could deal with this missing data. We could attempt to build a simple model to fill it in, such as a linear model, we could just fill it in based on the mean of the other columns, or you could even bin the columns into categories and then set NaN as its own category. There is no 100% correct approach!\n",
        "\n",
        "Let's review the other columsn to see which most highly correlates to mort_acc"
      ],
      "metadata": {
        "id": "Y5JDGDASAoV6"
      }
    },
    {
      "cell_type": "code",
      "source": [
        "data.mort_acc.value_counts()"
      ],
      "metadata": {
        "execution": {
          "iopub.status.busy": "2023-01-31T13:47:32.932056Z",
          "iopub.execute_input": "2023-01-31T13:47:32.932549Z",
          "iopub.status.idle": "2023-01-31T13:47:32.950579Z",
          "shell.execute_reply.started": "2023-01-31T13:47:32.932507Z",
          "shell.execute_reply": "2023-01-31T13:47:32.949627Z"
        },
        "trusted": true,
        "id": "rgjgL1XIAoV6"
      },
      "execution_count": null,
      "outputs": []
    },
    {
      "cell_type": "code",
      "source": [
        "data.mort_acc.isna().sum()"
      ],
      "metadata": {
        "execution": {
          "iopub.status.busy": "2023-01-31T13:47:32.951845Z",
          "iopub.execute_input": "2023-01-31T13:47:32.952608Z",
          "iopub.status.idle": "2023-01-31T13:47:32.961218Z",
          "shell.execute_reply.started": "2023-01-31T13:47:32.95257Z",
          "shell.execute_reply": "2023-01-31T13:47:32.960193Z"
        },
        "trusted": true,
        "id": "ckjAh9VSAoV6"
      },
      "execution_count": null,
      "outputs": []
    },
    {
      "cell_type": "code",
      "source": [
        "data.corr()['mort_acc'].drop('mort_acc').sort_values().hvplot.barh()"
      ],
      "metadata": {
        "execution": {
          "iopub.status.busy": "2023-01-31T13:47:32.962623Z",
          "iopub.execute_input": "2023-01-31T13:47:32.963571Z",
          "iopub.status.idle": "2023-01-31T13:47:33.311052Z",
          "shell.execute_reply.started": "2023-01-31T13:47:32.963529Z",
          "shell.execute_reply": "2023-01-31T13:47:33.309999Z"
        },
        "trusted": true,
        "id": "K36J-VfuAoV6"
      },
      "execution_count": null,
      "outputs": []
    },
    {
      "cell_type": "markdown",
      "source": [
        "Looks like the total_acc feature correlates with the mort_acc , this makes sense! Let's try this fillna() approach. We will group the dataframe by the total_acc and calculate the mean value for the mort_acc per total_acc entry. To get the result below:"
      ],
      "metadata": {
        "id": "MB1VGxDcAoV6"
      }
    },
    {
      "cell_type": "code",
      "source": [
        "total_acc_avg = data.groupby(by='total_acc').mean().mort_acc"
      ],
      "metadata": {
        "execution": {
          "iopub.status.busy": "2023-01-31T13:47:33.312643Z",
          "iopub.execute_input": "2023-01-31T13:47:33.313272Z",
          "iopub.status.idle": "2023-01-31T13:47:33.406454Z",
          "shell.execute_reply.started": "2023-01-31T13:47:33.313233Z",
          "shell.execute_reply": "2023-01-31T13:47:33.405519Z"
        },
        "trusted": true,
        "id": "B5MJvzrSAoV7"
      },
      "execution_count": null,
      "outputs": []
    },
    {
      "cell_type": "code",
      "source": [
        "def fill_mort_acc(total_acc, mort_acc):\n",
        "    if np.isnan(mort_acc):\n",
        "        return total_acc_avg[total_acc].round()\n",
        "    else:\n",
        "        return mort_acc"
      ],
      "metadata": {
        "execution": {
          "iopub.status.busy": "2023-01-31T13:47:33.407995Z",
          "iopub.execute_input": "2023-01-31T13:47:33.408599Z",
          "iopub.status.idle": "2023-01-31T13:47:33.414181Z",
          "shell.execute_reply.started": "2023-01-31T13:47:33.408556Z",
          "shell.execute_reply": "2023-01-31T13:47:33.413221Z"
        },
        "trusted": true,
        "id": "5ILvvRO8AoV7"
      },
      "execution_count": null,
      "outputs": []
    },
    {
      "cell_type": "code",
      "source": [
        "data['mort_acc'] = data.apply(lambda x: fill_mort_acc(x['total_acc'], x['mort_acc']), axis=1)"
      ],
      "metadata": {
        "execution": {
          "iopub.status.busy": "2023-01-31T13:47:33.415941Z",
          "iopub.execute_input": "2023-01-31T13:47:33.416872Z",
          "iopub.status.idle": "2023-01-31T13:47:43.239175Z",
          "shell.execute_reply.started": "2023-01-31T13:47:33.41683Z",
          "shell.execute_reply": "2023-01-31T13:47:43.238138Z"
        },
        "trusted": true,
        "id": "j-bfa4G4AoV7"
      },
      "execution_count": null,
      "outputs": []
    },
    {
      "cell_type": "markdown",
      "source": [
        "### `revol_util` & `pub_rec_bankruptcies`\n",
        "These two features have missing data points, but they account for less than 0.5% of the total data. So we are going to remove the rows that are missing those values in those columns with dropna()."
      ],
      "metadata": {
        "id": "jnXjbEA2AoV7"
      }
    },
    {
      "cell_type": "code",
      "source": [
        "for column in data.columns:\n",
        "    if data[column].isna().sum() != 0:\n",
        "        missing = data[column].isna().sum()\n",
        "        portion = (missing / data.shape[0]) * 100\n",
        "        print(f\"'{column}': number of missing values '{missing}' ==> '{portion:.3f}%'\")"
      ],
      "metadata": {
        "execution": {
          "iopub.status.busy": "2023-01-31T13:47:43.240599Z",
          "iopub.execute_input": "2023-01-31T13:47:43.242047Z",
          "iopub.status.idle": "2023-01-31T13:47:43.385134Z",
          "shell.execute_reply.started": "2023-01-31T13:47:43.242007Z",
          "shell.execute_reply": "2023-01-31T13:47:43.384142Z"
        },
        "trusted": true,
        "id": "icGgpcNuAoV7"
      },
      "execution_count": null,
      "outputs": []
    },
    {
      "cell_type": "code",
      "source": [
        "data.dropna(inplace=True)"
      ],
      "metadata": {
        "execution": {
          "iopub.status.busy": "2023-01-31T13:47:43.386999Z",
          "iopub.execute_input": "2023-01-31T13:47:43.387862Z",
          "iopub.status.idle": "2023-01-31T13:47:43.598917Z",
          "shell.execute_reply.started": "2023-01-31T13:47:43.387823Z",
          "shell.execute_reply": "2023-01-31T13:47:43.597853Z"
        },
        "trusted": true,
        "id": "HEIZboX3AoV7"
      },
      "execution_count": null,
      "outputs": []
    },
    {
      "cell_type": "code",
      "source": [
        "data.shape"
      ],
      "metadata": {
        "execution": {
          "iopub.status.busy": "2023-01-31T13:47:43.600353Z",
          "iopub.execute_input": "2023-01-31T13:47:43.601212Z",
          "iopub.status.idle": "2023-01-31T13:47:43.608669Z",
          "shell.execute_reply.started": "2023-01-31T13:47:43.601169Z",
          "shell.execute_reply": "2023-01-31T13:47:43.607507Z"
        },
        "trusted": true,
        "id": "-rxzaveyAoV7"
      },
      "execution_count": null,
      "outputs": []
    },
    {
      "cell_type": "markdown",
      "source": [
        "## Categorical Variables and Dummy Variables"
      ],
      "metadata": {
        "id": "g8HkIrxoAoV7"
      }
    },
    {
      "cell_type": "code",
      "source": [
        "print([column for column in data.columns if data[column].dtype == object])"
      ],
      "metadata": {
        "execution": {
          "iopub.status.busy": "2023-01-31T13:47:43.610281Z",
          "iopub.execute_input": "2023-01-31T13:47:43.611139Z",
          "iopub.status.idle": "2023-01-31T13:47:43.620325Z",
          "shell.execute_reply.started": "2023-01-31T13:47:43.611101Z",
          "shell.execute_reply": "2023-01-31T13:47:43.619161Z"
        },
        "trusted": true,
        "id": "0pVk17RoAoV7"
      },
      "execution_count": null,
      "outputs": []
    },
    {
      "cell_type": "markdown",
      "source": [
        "### `term`"
      ],
      "metadata": {
        "id": "a2ml1dwdAoV7"
      }
    },
    {
      "cell_type": "code",
      "source": [
        "data.term.unique()"
      ],
      "metadata": {
        "execution": {
          "iopub.status.busy": "2023-01-31T13:47:43.621635Z",
          "iopub.execute_input": "2023-01-31T13:47:43.62282Z",
          "iopub.status.idle": "2023-01-31T13:47:43.664914Z",
          "shell.execute_reply.started": "2023-01-31T13:47:43.622785Z",
          "shell.execute_reply": "2023-01-31T13:47:43.659895Z"
        },
        "trusted": true,
        "id": "njvK3J29AoV7"
      },
      "execution_count": null,
      "outputs": []
    },
    {
      "cell_type": "code",
      "source": [
        "term_values = {' 36 months': 36, ' 60 months': 60}\n",
        "data['term'] = data.term.map(term_values)"
      ],
      "metadata": {
        "execution": {
          "iopub.status.busy": "2023-01-31T13:47:43.680914Z",
          "iopub.execute_input": "2023-01-31T13:47:43.681667Z",
          "iopub.status.idle": "2023-01-31T13:47:43.751319Z",
          "shell.execute_reply.started": "2023-01-31T13:47:43.68163Z",
          "shell.execute_reply": "2023-01-31T13:47:43.750332Z"
        },
        "trusted": true,
        "id": "DMJ2HVXYAoV7"
      },
      "execution_count": null,
      "outputs": []
    },
    {
      "cell_type": "code",
      "source": [
        "data.term.unique()"
      ],
      "metadata": {
        "execution": {
          "iopub.status.busy": "2023-01-31T13:47:43.752949Z",
          "iopub.execute_input": "2023-01-31T13:47:43.753334Z",
          "iopub.status.idle": "2023-01-31T13:47:43.76376Z",
          "shell.execute_reply.started": "2023-01-31T13:47:43.753295Z",
          "shell.execute_reply": "2023-01-31T13:47:43.762623Z"
        },
        "trusted": true,
        "id": "Tl3-frsiAoV7"
      },
      "execution_count": null,
      "outputs": []
    },
    {
      "cell_type": "markdown",
      "source": [
        "### `grade` & `sub_grade`\n",
        "\n",
        "We know that `grade` is just a sub feature of `sub_grade`, So we are goinig to drop it."
      ],
      "metadata": {
        "id": "TSntI5KAAoV7"
      }
    },
    {
      "cell_type": "code",
      "source": [
        "data.drop('grade', axis=1, inplace=True)"
      ],
      "metadata": {
        "execution": {
          "iopub.status.busy": "2023-01-31T13:47:43.765531Z",
          "iopub.execute_input": "2023-01-31T13:47:43.765989Z",
          "iopub.status.idle": "2023-01-31T13:47:43.831985Z",
          "shell.execute_reply.started": "2023-01-31T13:47:43.765952Z",
          "shell.execute_reply": "2023-01-31T13:47:43.831256Z"
        },
        "trusted": true,
        "id": "ZV6MuQpRAoV7"
      },
      "execution_count": null,
      "outputs": []
    },
    {
      "cell_type": "code",
      "source": [
        "dummies = ['sub_grade', 'verification_status', 'purpose', 'initial_list_status',\n",
        "           'application_type', 'home_ownership']\n",
        "data = pd.get_dummies(data, columns=dummies, drop_first=True)"
      ],
      "metadata": {
        "execution": {
          "iopub.status.busy": "2023-01-31T13:47:43.83349Z",
          "iopub.execute_input": "2023-01-31T13:47:43.834128Z",
          "iopub.status.idle": "2023-01-31T13:47:44.173636Z",
          "shell.execute_reply.started": "2023-01-31T13:47:43.834088Z",
          "shell.execute_reply": "2023-01-31T13:47:44.172524Z"
        },
        "trusted": true,
        "id": "Pqvxr3EnAoV7"
      },
      "execution_count": null,
      "outputs": []
    },
    {
      "cell_type": "markdown",
      "source": [
        "### `address`\n",
        "We are going to feature engineer a zip code column from the address in the data set. Create a column called 'zip_code' that extracts the zip code from the address column."
      ],
      "metadata": {
        "id": "mrw-3QWSAoV7"
      }
    },
    {
      "cell_type": "code",
      "source": [
        "data.address.head()"
      ],
      "metadata": {
        "execution": {
          "iopub.status.busy": "2023-01-31T13:47:44.175586Z",
          "iopub.execute_input": "2023-01-31T13:47:44.176283Z",
          "iopub.status.idle": "2023-01-31T13:47:44.185938Z",
          "shell.execute_reply.started": "2023-01-31T13:47:44.17624Z",
          "shell.execute_reply": "2023-01-31T13:47:44.184654Z"
        },
        "trusted": true,
        "id": "FOFGxK34AoV7"
      },
      "execution_count": null,
      "outputs": []
    },
    {
      "cell_type": "code",
      "source": [
        "data['zip_code'] = data.address.apply(lambda x: x[-5:])"
      ],
      "metadata": {
        "execution": {
          "iopub.status.busy": "2023-01-31T13:47:44.1878Z",
          "iopub.execute_input": "2023-01-31T13:47:44.188525Z",
          "iopub.status.idle": "2023-01-31T13:47:44.306465Z",
          "shell.execute_reply.started": "2023-01-31T13:47:44.188459Z",
          "shell.execute_reply": "2023-01-31T13:47:44.305522Z"
        },
        "trusted": true,
        "id": "l4qzfhXKAoV7"
      },
      "execution_count": null,
      "outputs": []
    },
    {
      "cell_type": "code",
      "source": [
        "data.zip_code.value_counts()"
      ],
      "metadata": {
        "execution": {
          "iopub.status.busy": "2023-01-31T13:47:44.308117Z",
          "iopub.execute_input": "2023-01-31T13:47:44.308528Z",
          "iopub.status.idle": "2023-01-31T13:47:44.35017Z",
          "shell.execute_reply.started": "2023-01-31T13:47:44.308489Z",
          "shell.execute_reply": "2023-01-31T13:47:44.349088Z"
        },
        "trusted": true,
        "id": "nlTYMJtMAoV7"
      },
      "execution_count": null,
      "outputs": []
    },
    {
      "cell_type": "code",
      "source": [
        "data = pd.get_dummies(data, columns=['zip_code'], drop_first=True)"
      ],
      "metadata": {
        "execution": {
          "iopub.status.busy": "2023-01-31T13:47:44.351578Z",
          "iopub.execute_input": "2023-01-31T13:47:44.352013Z",
          "iopub.status.idle": "2023-01-31T13:47:44.549672Z",
          "shell.execute_reply.started": "2023-01-31T13:47:44.351977Z",
          "shell.execute_reply": "2023-01-31T13:47:44.548637Z"
        },
        "trusted": true,
        "id": "183GCEg_AoV7"
      },
      "execution_count": null,
      "outputs": []
    },
    {
      "cell_type": "code",
      "source": [
        "data.drop('address', axis=1, inplace=True)"
      ],
      "metadata": {
        "execution": {
          "iopub.status.busy": "2023-01-31T13:47:44.552119Z",
          "iopub.execute_input": "2023-01-31T13:47:44.553072Z",
          "iopub.status.idle": "2023-01-31T13:47:44.633164Z",
          "shell.execute_reply.started": "2023-01-31T13:47:44.553032Z",
          "shell.execute_reply": "2023-01-31T13:47:44.632137Z"
        },
        "trusted": true,
        "id": "YzyDUpJbAoV7"
      },
      "execution_count": null,
      "outputs": []
    },
    {
      "cell_type": "markdown",
      "source": [
        "### `issue_d`\n",
        "\n",
        "This would be data leakage, we wouldn't know beforehand whether or not a loan would be issued when using our model, so in theory we wouldn't have an issue_date, drop this feature."
      ],
      "metadata": {
        "id": "jvtlbe5XAoV7"
      }
    },
    {
      "cell_type": "code",
      "source": [
        "data.drop('issue_d', axis=1, inplace=True)"
      ],
      "metadata": {
        "execution": {
          "iopub.status.busy": "2023-01-31T13:47:44.63484Z",
          "iopub.execute_input": "2023-01-31T13:47:44.635232Z",
          "iopub.status.idle": "2023-01-31T13:47:44.683041Z",
          "shell.execute_reply.started": "2023-01-31T13:47:44.635194Z",
          "shell.execute_reply": "2023-01-31T13:47:44.682043Z"
        },
        "trusted": true,
        "id": "qsIlGnBMAoV7"
      },
      "execution_count": null,
      "outputs": []
    },
    {
      "cell_type": "markdown",
      "source": [
        "### `earliest_cr_line`\n",
        "This appears to be a historical time stamp feature. Extract the year from this feature using a `.apply()` function, then convert it to a numeric feature."
      ],
      "metadata": {
        "id": "aIlgPZQRAoV7"
      }
    },
    {
      "cell_type": "code",
      "source": [
        "data['earliest_cr_line'] = data.earliest_cr_line.dt.year"
      ],
      "metadata": {
        "execution": {
          "iopub.status.busy": "2023-01-31T13:47:44.684745Z",
          "iopub.execute_input": "2023-01-31T13:47:44.685158Z",
          "iopub.status.idle": "2023-01-31T13:47:44.735644Z",
          "shell.execute_reply.started": "2023-01-31T13:47:44.685116Z",
          "shell.execute_reply": "2023-01-31T13:47:44.734636Z"
        },
        "trusted": true,
        "id": "7BjXRWCYAoV7"
      },
      "execution_count": null,
      "outputs": []
    },
    {
      "cell_type": "code",
      "source": [
        "data.earliest_cr_line.nunique()"
      ],
      "metadata": {
        "execution": {
          "iopub.status.busy": "2023-01-31T13:47:44.737194Z",
          "iopub.execute_input": "2023-01-31T13:47:44.737586Z",
          "iopub.status.idle": "2023-01-31T13:47:44.749653Z",
          "shell.execute_reply.started": "2023-01-31T13:47:44.737547Z",
          "shell.execute_reply": "2023-01-31T13:47:44.748714Z"
        },
        "trusted": true,
        "id": "QDg18dY3AoV7"
      },
      "execution_count": null,
      "outputs": []
    },
    {
      "cell_type": "code",
      "source": [
        "data.earliest_cr_line.value_counts()"
      ],
      "metadata": {
        "execution": {
          "iopub.status.busy": "2023-01-31T13:47:44.751028Z",
          "iopub.execute_input": "2023-01-31T13:47:44.751773Z",
          "iopub.status.idle": "2023-01-31T13:47:44.767324Z",
          "shell.execute_reply.started": "2023-01-31T13:47:44.751737Z",
          "shell.execute_reply": "2023-01-31T13:47:44.766067Z"
        },
        "trusted": true,
        "id": "atZ9XikFAoV7"
      },
      "execution_count": null,
      "outputs": []
    },
    {
      "cell_type": "code",
      "source": [
        "# data.drop('earliest_cr_line', axis=1, inplace=True)"
      ],
      "metadata": {
        "execution": {
          "iopub.status.busy": "2023-01-31T13:47:44.768787Z",
          "iopub.execute_input": "2023-01-31T13:47:44.769545Z",
          "iopub.status.idle": "2023-01-31T13:47:44.774271Z",
          "shell.execute_reply.started": "2023-01-31T13:47:44.76951Z",
          "shell.execute_reply": "2023-01-31T13:47:44.773191Z"
        },
        "trusted": true,
        "id": "3um7-62BAoV7"
      },
      "execution_count": null,
      "outputs": []
    },
    {
      "cell_type": "markdown",
      "source": [
        "## Check for duplicates columns & features"
      ],
      "metadata": {
        "id": "jfuoadC4AoV8"
      }
    },
    {
      "cell_type": "code",
      "source": [
        "# print(f\"Data shape: {data.shape}\")\n",
        "\n",
        "# # Remove duplicate Features\n",
        "# data = data.T.drop_duplicates()\n",
        "# data = data.T\n",
        "\n",
        "# # Remove Duplicate Rows\n",
        "# data.drop_duplicates(inplace=True)\n",
        "\n",
        "# print(f\"Data shape: {data.shape}\")"
      ],
      "metadata": {
        "execution": {
          "iopub.status.busy": "2023-01-31T13:47:44.775943Z",
          "iopub.execute_input": "2023-01-31T13:47:44.776448Z",
          "iopub.status.idle": "2023-01-31T13:47:44.783386Z",
          "shell.execute_reply.started": "2023-01-31T13:47:44.776411Z",
          "shell.execute_reply": "2023-01-31T13:47:44.782304Z"
        },
        "trusted": true,
        "id": "xxs7IytDAoV8"
      },
      "execution_count": null,
      "outputs": []
    },
    {
      "cell_type": "markdown",
      "source": [
        "## Train Test Split"
      ],
      "metadata": {
        "id": "uHeTD77WAoV8"
      }
    },
    {
      "cell_type": "code",
      "source": [
        "w_p = data.loan_status.value_counts()[0] / data.shape[0]\n",
        "w_n = data.loan_status.value_counts()[1] / data.shape[0]\n",
        "\n",
        "print(f\"Weight of positive values {w_p}\")\n",
        "print(f\"Weight of negative values {w_n}\")"
      ],
      "metadata": {
        "execution": {
          "iopub.status.busy": "2023-01-31T13:47:44.78503Z",
          "iopub.execute_input": "2023-01-31T13:47:44.786968Z",
          "iopub.status.idle": "2023-01-31T13:47:44.802521Z",
          "shell.execute_reply.started": "2023-01-31T13:47:44.786939Z",
          "shell.execute_reply": "2023-01-31T13:47:44.801392Z"
        },
        "trusted": true,
        "id": "1dCwVfA4AoV8"
      },
      "execution_count": null,
      "outputs": []
    },
    {
      "cell_type": "code",
      "source": [
        "train, test = train_test_split(data, test_size=0.33, random_state=42)\n",
        "\n",
        "print(train.shape)\n",
        "print(test.shape)"
      ],
      "metadata": {
        "execution": {
          "iopub.status.busy": "2023-01-31T13:47:44.804045Z",
          "iopub.execute_input": "2023-01-31T13:47:44.804732Z",
          "iopub.status.idle": "2023-01-31T13:47:45.067917Z",
          "shell.execute_reply.started": "2023-01-31T13:47:44.804696Z",
          "shell.execute_reply": "2023-01-31T13:47:45.066801Z"
        },
        "trusted": true,
        "id": "sk60KIWIAoV8"
      },
      "execution_count": null,
      "outputs": []
    },
    {
      "cell_type": "markdown",
      "source": [
        "# Removing Outliers"
      ],
      "metadata": {
        "id": "qauMuxpNAoV8"
      }
    },
    {
      "cell_type": "code",
      "source": [
        "print(train[train['dti'] <= 50].shape)\n",
        "print(train.shape)"
      ],
      "metadata": {
        "execution": {
          "iopub.status.busy": "2023-01-31T13:47:45.069336Z",
          "iopub.execute_input": "2023-01-31T13:47:45.070457Z",
          "iopub.status.idle": "2023-01-31T13:47:45.174553Z",
          "shell.execute_reply.started": "2023-01-31T13:47:45.070415Z",
          "shell.execute_reply": "2023-01-31T13:47:45.173541Z"
        },
        "trusted": true,
        "id": "LgpRPjGEAoV8"
      },
      "execution_count": null,
      "outputs": []
    },
    {
      "cell_type": "code",
      "source": [
        "print(train.shape)\n",
        "train = train[train['annual_inc'] <= 250000]\n",
        "train = train[train['dti'] <= 50]\n",
        "train = train[train['open_acc'] <= 40]\n",
        "train = train[train['total_acc'] <= 80]\n",
        "train = train[train['revol_util'] <= 120]\n",
        "train = train[train['revol_bal'] <= 250000]\n",
        "print(train.shape)"
      ],
      "metadata": {
        "execution": {
          "iopub.status.busy": "2023-01-31T13:47:45.17646Z",
          "iopub.execute_input": "2023-01-31T13:47:45.177347Z",
          "iopub.status.idle": "2023-01-31T13:47:45.725441Z",
          "shell.execute_reply.started": "2023-01-31T13:47:45.177307Z",
          "shell.execute_reply": "2023-01-31T13:47:45.724264Z"
        },
        "trusted": true,
        "id": "3fg8PSd5AoV8"
      },
      "execution_count": null,
      "outputs": []
    },
    {
      "cell_type": "markdown",
      "source": [
        "## Normalizing the data"
      ],
      "metadata": {
        "id": "CkjsFT0wAoV8"
      }
    },
    {
      "cell_type": "code",
      "source": [
        "X_train, y_train = train.drop('loan_status', axis=1), train.loan_status\n",
        "X_test, y_test = test.drop('loan_status', axis=1), test.loan_status"
      ],
      "metadata": {
        "execution": {
          "iopub.status.busy": "2023-01-31T13:47:45.726825Z",
          "iopub.execute_input": "2023-01-31T13:47:45.727694Z",
          "iopub.status.idle": "2023-01-31T13:47:45.761513Z",
          "shell.execute_reply.started": "2023-01-31T13:47:45.727654Z",
          "shell.execute_reply": "2023-01-31T13:47:45.760273Z"
        },
        "trusted": true,
        "id": "ksY5carwAoV8"
      },
      "execution_count": null,
      "outputs": []
    },
    {
      "cell_type": "code",
      "source": [
        "X_train.dtypes"
      ],
      "metadata": {
        "execution": {
          "iopub.status.busy": "2023-01-31T13:47:45.762901Z",
          "iopub.execute_input": "2023-01-31T13:47:45.763578Z",
          "iopub.status.idle": "2023-01-31T13:47:45.773581Z",
          "shell.execute_reply.started": "2023-01-31T13:47:45.763539Z",
          "shell.execute_reply": "2023-01-31T13:47:45.772489Z"
        },
        "trusted": true,
        "id": "zxMA1spNAoV8"
      },
      "execution_count": null,
      "outputs": []
    },
    {
      "cell_type": "code",
      "source": [
        "scaler = MinMaxScaler()\n",
        "X_train = scaler.fit_transform(X_train)\n",
        "X_test = scaler.transform(X_test)"
      ],
      "metadata": {
        "execution": {
          "iopub.status.busy": "2023-01-31T13:47:45.775051Z",
          "iopub.execute_input": "2023-01-31T13:47:45.776031Z",
          "iopub.status.idle": "2023-01-31T13:47:46.087869Z",
          "shell.execute_reply.started": "2023-01-31T13:47:45.775995Z",
          "shell.execute_reply": "2023-01-31T13:47:46.086837Z"
        },
        "trusted": true,
        "id": "j2JxXbqnAoV8"
      },
      "execution_count": null,
      "outputs": []
    },
    {
      "cell_type": "markdown",
      "source": [
        "# Models Building"
      ],
      "metadata": {
        "id": "M6opuBQ0AoV8"
      }
    },
    {
      "cell_type": "code",
      "source": [
        "def print_score(true, pred, train=True):\n",
        "    if train:\n",
        "        clf_report = pd.DataFrame(classification_report(true, pred, output_dict=True))\n",
        "        print(\"Train Result:\\n================================================\")\n",
        "        print(f\"Accuracy Score: {accuracy_score(true, pred) * 100:.2f}%\")\n",
        "        print(\"_______________________________________________\")\n",
        "        print(f\"CLASSIFICATION REPORT:\\n{clf_report}\")\n",
        "        print(\"_______________________________________________\")\n",
        "        print(f\"Confusion Matrix: \\n {confusion_matrix(true, pred)}\\n\")\n",
        "\n",
        "    elif train==False:\n",
        "        clf_report = pd.DataFrame(classification_report(true, pred, output_dict=True))\n",
        "        print(\"Test Result:\\n================================================\")\n",
        "        print(f\"Accuracy Score: {accuracy_score(true, pred) * 100:.2f}%\")\n",
        "        print(\"_______________________________________________\")\n",
        "        print(f\"CLASSIFICATION REPORT:\\n{clf_report}\")\n",
        "        print(\"_______________________________________________\")\n",
        "        print(f\"Confusion Matrix: \\n {confusion_matrix(true, pred)}\\n\")"
      ],
      "metadata": {
        "execution": {
          "iopub.status.busy": "2023-01-31T13:47:46.089381Z",
          "iopub.execute_input": "2023-01-31T13:47:46.090053Z",
          "iopub.status.idle": "2023-01-31T13:47:46.100456Z",
          "shell.execute_reply.started": "2023-01-31T13:47:46.090015Z",
          "shell.execute_reply": "2023-01-31T13:47:46.099187Z"
        },
        "trusted": true,
        "id": "Whj6yK47AoV8"
      },
      "execution_count": null,
      "outputs": []
    },
    {
      "cell_type": "code",
      "source": [
        "X_train = np.array(X_train).astype(np.float32)\n",
        "X_test = np.array(X_test).astype(np.float32)\n",
        "y_train = np.array(y_train).astype(np.float32)\n",
        "y_test = np.array(y_test).astype(np.float32)"
      ],
      "metadata": {
        "execution": {
          "iopub.status.busy": "2023-01-31T13:47:46.102615Z",
          "iopub.execute_input": "2023-01-31T13:47:46.102993Z",
          "iopub.status.idle": "2023-01-31T13:47:46.252245Z",
          "shell.execute_reply.started": "2023-01-31T13:47:46.102954Z",
          "shell.execute_reply": "2023-01-31T13:47:46.251037Z"
        },
        "trusted": true,
        "id": "xSZHux4dAoV8"
      },
      "execution_count": null,
      "outputs": []
    },
    {
      "cell_type": "markdown",
      "source": [
        "# Artificial Neural Networks (ANNs)"
      ],
      "metadata": {
        "id": "-BP2_8mWAoV8"
      }
    },
    {
      "cell_type": "code",
      "source": [
        "def evaluate_nn(true, pred, train=True):\n",
        "    if train:\n",
        "        clf_report = pd.DataFrame(classification_report(true, pred, output_dict=True))\n",
        "        print(\"Train Result:\\n================================================\")\n",
        "        print(f\"Accuracy Score: {accuracy_score(true, pred) * 100:.2f}%\")\n",
        "        print(\"_______________________________________________\")\n",
        "        print(f\"CLASSIFICATION REPORT:\\n{clf_report}\")\n",
        "        print(\"_______________________________________________\")\n",
        "        print(f\"Confusion Matrix: \\n {confusion_matrix(true, pred)}\\n\")\n",
        "\n",
        "    elif train==False:\n",
        "        clf_report = pd.DataFrame(classification_report(true, pred, output_dict=True))\n",
        "        print(\"Test Result:\\n================================================\")\n",
        "        print(f\"Accuracy Score: {accuracy_score(true, pred) * 100:.2f}%\")\n",
        "        print(\"_______________________________________________\")\n",
        "        print(f\"CLASSIFICATION REPORT:\\n{clf_report}\")\n",
        "        print(\"_______________________________________________\")\n",
        "        print(f\"Confusion Matrix: \\n {confusion_matrix(true, pred)}\\n\")\n",
        "\n",
        "def plot_learning_evolution(r):\n",
        "    plt.figure(figsize=(12, 8))\n",
        "\n",
        "    plt.subplot(2, 2, 1)\n",
        "    plt.plot(r.history['loss'], label='Loss')\n",
        "    plt.plot(r.history['val_loss'], label='val_Loss')\n",
        "    plt.title('Loss evolution during trainig')\n",
        "    plt.legend()\n",
        "\n",
        "    plt.subplot(2, 2, 2)\n",
        "    plt.plot(r.history['AUC'], label='AUC')\n",
        "    plt.plot(r.history['val_AUC'], label='val_AUC')\n",
        "    plt.title('AUC score evolution during trainig')\n",
        "    plt.legend();\n",
        "\n",
        "def nn_model(num_columns, num_labels, hidden_units, dropout_rates, learning_rate):\n",
        "    inp = tf.keras.layers.Input(shape=(num_columns, ))\n",
        "    x = BatchNormalization()(inp)\n",
        "    x = Dropout(dropout_rates[0])(x)\n",
        "    for i in range(len(hidden_units)):\n",
        "        x = Dense(hidden_units[i], activation='relu')(x)\n",
        "        x = BatchNormalization()(x)\n",
        "        x = Dropout(dropout_rates[i + 1])(x)\n",
        "    x = Dense(num_labels, activation='sigmoid')(x)\n",
        "\n",
        "    model = Model(inputs=inp, outputs=x)\n",
        "    model.compile(optimizer=Adam(learning_rate), loss='binary_crossentropy', metrics=[AUC(name='AUC')])\n",
        "    return model"
      ],
      "metadata": {
        "execution": {
          "iopub.status.busy": "2023-01-31T13:47:46.254361Z",
          "iopub.execute_input": "2023-01-31T13:47:46.254799Z",
          "iopub.status.idle": "2023-01-31T13:47:46.272092Z",
          "shell.execute_reply.started": "2023-01-31T13:47:46.254758Z",
          "shell.execute_reply": "2023-01-31T13:47:46.270998Z"
        },
        "trusted": true,
        "id": "b3fRK9S5AoV8"
      },
      "execution_count": null,
      "outputs": []
    },
    {
      "cell_type": "code",
      "source": [
        "num_columns = X_train.shape[1]\n",
        "num_labels = 1\n",
        "hidden_units = [150, 150, 150]\n",
        "dropout_rates = [0.1, 0, 0.1, 0]\n",
        "learning_rate = 1e-3\n",
        "\n",
        "\n",
        "model = nn_model(\n",
        "    num_columns=num_columns,\n",
        "    num_labels=num_labels,\n",
        "    hidden_units=hidden_units,\n",
        "    dropout_rates=dropout_rates,\n",
        "    learning_rate=learning_rate\n",
        ")\n",
        "r = model.fit(\n",
        "    X_train, y_train,\n",
        "    validation_data=(X_test, y_test),\n",
        "    epochs=20,\n",
        "    batch_size=32\n",
        ")"
      ],
      "metadata": {
        "_kg_hide-output": true,
        "execution": {
          "iopub.status.busy": "2023-01-31T13:47:46.273623Z",
          "iopub.execute_input": "2023-01-31T13:47:46.274228Z",
          "iopub.status.idle": "2023-01-31T14:06:26.650271Z",
          "shell.execute_reply.started": "2023-01-31T13:47:46.27419Z",
          "shell.execute_reply": "2023-01-31T14:06:26.649169Z"
        },
        "trusted": true,
        "id": "fRhN4t01AoV8"
      },
      "execution_count": null,
      "outputs": []
    },
    {
      "cell_type": "code",
      "source": [
        "plot_learning_evolution(r)"
      ],
      "metadata": {
        "execution": {
          "iopub.status.busy": "2023-01-31T14:06:26.652392Z",
          "iopub.execute_input": "2023-01-31T14:06:26.653597Z",
          "iopub.status.idle": "2023-01-31T14:06:26.972347Z",
          "shell.execute_reply.started": "2023-01-31T14:06:26.653556Z",
          "shell.execute_reply": "2023-01-31T14:06:26.971385Z"
        },
        "trusted": true,
        "id": "phRD3jtiAoV8"
      },
      "execution_count": null,
      "outputs": []
    },
    {
      "cell_type": "code",
      "source": [
        "y_train_pred = model.predict(X_train)\n",
        "evaluate_nn(y_train, y_train_pred.round(), train=True)"
      ],
      "metadata": {
        "execution": {
          "iopub.status.busy": "2023-01-31T14:06:26.974118Z",
          "iopub.execute_input": "2023-01-31T14:06:26.974927Z",
          "iopub.status.idle": "2023-01-31T14:06:38.481934Z",
          "shell.execute_reply.started": "2023-01-31T14:06:26.974892Z",
          "shell.execute_reply": "2023-01-31T14:06:38.480839Z"
        },
        "trusted": true,
        "id": "Q_V6B_a9AoV8"
      },
      "execution_count": null,
      "outputs": []
    },
    {
      "cell_type": "code",
      "source": [
        "y_test_pred = model.predict(X_test)\n",
        "evaluate_nn(y_test, y_test_pred.round(), train=False)"
      ],
      "metadata": {
        "execution": {
          "iopub.status.busy": "2023-01-31T14:06:38.483649Z",
          "iopub.execute_input": "2023-01-31T14:06:38.484051Z",
          "iopub.status.idle": "2023-01-31T14:06:43.277Z",
          "shell.execute_reply.started": "2023-01-31T14:06:38.484011Z",
          "shell.execute_reply": "2023-01-31T14:06:43.275911Z"
        },
        "trusted": true,
        "id": "6pbk6HCMAoV8"
      },
      "execution_count": null,
      "outputs": []
    },
    {
      "cell_type": "code",
      "source": [
        "scores_dict = {\n",
        "    'ANNs': {\n",
        "        'Train': roc_auc_score(y_train, model.predict(X_train)),\n",
        "        'Test': roc_auc_score(y_test, model.predict(X_test)),\n",
        "    },\n",
        "}"
      ],
      "metadata": {
        "execution": {
          "iopub.status.busy": "2023-01-31T14:06:43.278952Z",
          "iopub.execute_input": "2023-01-31T14:06:43.279847Z",
          "iopub.status.idle": "2023-01-31T14:06:59.125803Z",
          "shell.execute_reply.started": "2023-01-31T14:06:43.279801Z",
          "shell.execute_reply": "2023-01-31T14:06:59.124802Z"
        },
        "trusted": true,
        "id": "B09QfT5kAoV8"
      },
      "execution_count": null,
      "outputs": []
    },
    {
      "cell_type": "markdown",
      "source": [
        "# XGBoost Classifier"
      ],
      "metadata": {
        "id": "U8V9zkgXAoV8"
      }
    },
    {
      "cell_type": "code",
      "source": [
        "# param_grid = dict(\n",
        "#     n_estimators=stats.randint(10, 500),\n",
        "#     max_depth=stats.randint(1, 10),\n",
        "#     learning_rate=stats.uniform(0, 1)\n",
        "# )\n",
        "\n",
        "xgb_clf = XGBClassifier(use_label_encoder=False)\n",
        "# xgb_cv = RandomizedSearchCV(\n",
        "#     xgb_clf, param_grid, cv=3, n_iter=60,\n",
        "#     scoring='roc_auc', n_jobs=-1, verbose=1\n",
        "# )\n",
        "# xgb_cv.fit(X_train, y_train)\n",
        "\n",
        "# best_params = xgb_cv.best_params_\n",
        "# best_params['tree_method'] = 'gpu_hist'\n",
        "# # best_params = {'n_estimators': 50, 'tree_method': 'gpu_hist'}\n",
        "# print(f\"Best Parameters: {best_params}\")\n",
        "\n",
        "# xgb_clf = XGBClassifier(**best_params)\n",
        "xgb_clf.fit(X_train, y_train)\n",
        "\n",
        "y_train_pred = xgb_clf.predict(X_train)\n",
        "y_test_pred = xgb_clf.predict(X_test)\n",
        "\n",
        "print_score(y_train, y_train_pred, train=True)\n",
        "print_score(y_test, y_test_pred, train=False)"
      ],
      "metadata": {
        "execution": {
          "iopub.status.busy": "2023-01-31T14:06:59.127177Z",
          "iopub.execute_input": "2023-01-31T14:06:59.129051Z"
        },
        "trusted": true,
        "id": "bcbwaorEAoV8"
      },
      "execution_count": null,
      "outputs": []
    },
    {
      "cell_type": "code",
      "source": [
        "disp = ConfusionMatrixDisplay.from_estimator(\n",
        "    xgb_clf, X_test, y_test,\n",
        "    cmap='Blues', values_format='d',\n",
        "    display_labels=['Default', 'Fully-Paid']\n",
        ")\n",
        "\n",
        "disp = RocCurveDisplay.from_estimator(xgb_clf, X_test, y_test)"
      ],
      "metadata": {
        "trusted": true,
        "id": "ZbIEh4p9AoV8"
      },
      "execution_count": null,
      "outputs": []
    },
    {
      "cell_type": "code",
      "source": [
        "scores_dict['XGBoost'] = {\n",
        "        'Train': roc_auc_score(y_train, xgb_clf.predict(X_train)),\n",
        "        'Test': roc_auc_score(y_test, xgb_clf.predict(X_test)),\n",
        "    }"
      ],
      "metadata": {
        "trusted": true,
        "id": "mpZq-yoiAoV8"
      },
      "execution_count": null,
      "outputs": []
    },
    {
      "cell_type": "markdown",
      "source": [
        "# Random Forest Classifier"
      ],
      "metadata": {
        "id": "QK1k7x2hAoV8"
      }
    },
    {
      "cell_type": "code",
      "source": [
        "# param_grid = dict(\n",
        "#     n_estimators=stats.randint(100, 1500),\n",
        "#     max_depth=stats.randint(10, 100),\n",
        "#     min_samples_split=stats.randint(1, 10),\n",
        "#     min_samples_leaf=stats.randint(1, 10),\n",
        "# )\n",
        "\n",
        "rf_clf = RandomForestClassifier(n_estimators=100)\n",
        "# rf_cv = RandomizedSearchCV(\n",
        "#     rf_clf, param_grid, cv=3, n_iter=60,\n",
        "#     scoring='roc_auc', n_jobs=-1, verbose=1\n",
        "# )\n",
        "# rf_cv.fit(X_train, y_train)\n",
        "# best_params = rf_cv.best_params_\n",
        "# print(f\"Best Parameters: {best_params}\")\n",
        "# rf_clf = RandomForestClassifier(**best_params)\n",
        "rf_clf.fit(X_train, y_train)\n",
        "\n",
        "y_train_pred = rf_clf.predict(X_train)\n",
        "y_test_pred = rf_clf.predict(X_test)\n",
        "\n",
        "print_score(y_train, y_train_pred, train=True)\n",
        "print_score(y_test, y_test_pred, train=False)"
      ],
      "metadata": {
        "trusted": true,
        "id": "it45MoO1AoV8"
      },
      "execution_count": null,
      "outputs": []
    },
    {
      "cell_type": "code",
      "source": [
        "disp = ConfusionMatrixDisplay.from_estimator(rf_clf, X_test, y_test,\n",
        "                             cmap='Blues', values_format='d',\n",
        "                             display_labels=['Default', 'Fully-Paid'])\n",
        "\n",
        "disp = RocCurveDisplay.from_estimator(xgb_clf, X_test, y_test)\n",
        "RocCurveDisplay.from_estimator(rf_clf, X_test, y_test, ax=disp.ax_)"
      ],
      "metadata": {
        "trusted": true,
        "id": "5YDvXBEpAoV8"
      },
      "execution_count": null,
      "outputs": []
    },
    {
      "cell_type": "code",
      "source": [
        "scores_dict['Random Forest'] = {\n",
        "        'Train': roc_auc_score(y_train, rf_clf.predict(X_train)),\n",
        "        'Test': roc_auc_score(y_test, rf_clf.predict(X_test)),\n",
        "    }"
      ],
      "metadata": {
        "trusted": true,
        "id": "KMOs67ejAoV8"
      },
      "execution_count": null,
      "outputs": []
    },
    {
      "cell_type": "markdown",
      "source": [
        "# Comparing Models Prerformance"
      ],
      "metadata": {
        "id": "AVrZhHAtAoV9"
      }
    },
    {
      "cell_type": "code",
      "source": [
        "ml_models = {\n",
        "    'Random Forest': rf_clf,\n",
        "    'XGBoost': xgb_clf,\n",
        "    'ANNs': model\n",
        "}\n",
        "\n",
        "for model in ml_models:\n",
        "    print(f\"{model.upper():{30}} roc_auc_score: {roc_auc_score(y_test, ml_models[model].predict(X_test)):.3f}\")"
      ],
      "metadata": {
        "_kg_hide-input": true,
        "trusted": true,
        "id": "cXMQ3tEQAoV9"
      },
      "execution_count": null,
      "outputs": []
    },
    {
      "cell_type": "code",
      "source": [
        "scores_df = pd.DataFrame(scores_dict)\n",
        "scores_df.hvplot.barh(\n",
        "    width=500, height=400,\n",
        "    title=\"ROC Scores of ML Models\", xlabel=\"ROC Scores\",\n",
        "    alpha=0.4, legend='top'\n",
        ")"
      ],
      "metadata": {
        "_kg_hide-input": true,
        "trusted": true,
        "id": "hzwxCiXNAoV9"
      },
      "execution_count": null,
      "outputs": []
    },
    {
      "cell_type": "code",
      "source": [],
      "metadata": {
        "id": "loouuJHkAoV9"
      },
      "execution_count": null,
      "outputs": []
    }
  ]
}